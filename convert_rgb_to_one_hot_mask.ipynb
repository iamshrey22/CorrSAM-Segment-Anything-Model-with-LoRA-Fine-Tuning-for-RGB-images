{
  "cells": [
    {
      "cell_type": "code",
      "execution_count": 5,
      "metadata": {
        "colab": {
          "base_uri": "https://localhost:8080/"
        },
        "id": "eyOn4Ma2iPlq",
        "outputId": "0208fc74-9133-406d-8ba1-ab7cd0487842"
      },
      "outputs": [
        {
          "name": "stdout",
          "output_type": "stream",
          "text": [
            "Train: 459/459 - Valid: 152/152 - Test: 152/152\n",
            "\n"
          ]
        }
      ],
      "source": [
        "\n",
        "import os\n",
        "os.environ[\"TF_CPP_MIN_LOG_LEVEL\"] = \"2\"\n",
        "import numpy as np\n",
        "import pandas as pd\n",
        "import cv2\n",
        "from glob import glob\n",
        "import scipy.io\n",
        "import re\n",
        "from sklearn.model_selection import train_test_split\n",
        "import tensorflow as tf\n",
        "from tensorflow.keras.callbacks import ModelCheckpoint, ReduceLROnPlateau, EarlyStopping, CSVLogger\n",
        "\n",
        "\"\"\" Global parameters \"\"\"\n",
        "global IMG_H\n",
        "global IMG_W\n",
        "global NUM_CLASSES\n",
        "global CLASSES\n",
        "global COLORMAP\n",
        "\n",
        "\"\"\" Creating a directory \"\"\"\n",
        "def create_dir(path):\n",
        "    if not os.path.exists(path):\n",
        "        os.makedirs(path)\n",
        "\n",
        "\n",
        "def load_dataset(path, split=0.2):\n",
        "    train_x = sorted(glob(os.path.join(path, \"images1\", \"*\")))\n",
        "    train_y = sorted(glob(os.path.join(path, \"masks1\", \"*\")))\n",
        "\n",
        "\n",
        "    split_size = int(split * len(train_x))\n",
        "\n",
        "\n",
        "\n",
        "    train_x, valid_x = train_test_split(train_x, test_size=split_size, random_state=42)\n",
        "    train_y, valid_y = train_test_split(train_y, test_size=split_size, random_state=42)\n",
        "\n",
        "    train_x, test_x = train_test_split(train_x, test_size=split_size, random_state=42)\n",
        "    train_y, test_y = train_test_split(train_y, test_size=split_size, random_state=42)\n",
        "\n",
        "    return (train_x, train_y), (valid_x, valid_y), (test_x, test_y)\n",
        "\n",
        "\n",
        "\n",
        "def read_image_mask(x, y):\n",
        "    \"\"\" Reading \"\"\"\n",
        "    x = cv2.imread(x, cv2.IMREAD_COLOR)\n",
        "    y = cv2.imread(y, cv2.IMREAD_COLOR)\n",
        "    assert x.shape == y.shape\n",
        "\n",
        "    \"\"\" Resizing \"\"\"\n",
        "    x = cv2.resize(x, (IMG_W, IMG_H))\n",
        "    y = cv2.resize(y, (IMG_W, IMG_H))\n",
        "\n",
        "    \"\"\" Image processing \"\"\"\n",
        "    x = x / 255.0\n",
        "    x = x.astype(np.float32)\n",
        "\n",
        "    \"\"\" Mask processing \"\"\"\n",
        "    output = []\n",
        "    for color in COLORMAP:\n",
        "        cmap = np.all(np.equal(y, color), axis=-1)\n",
        "        output.append(cmap)\n",
        "    output = np.stack(output, axis=-1)\n",
        "    output = output.astype(np.uint8)\n",
        "\n",
        "    return x, output\n",
        "\n",
        "def preprocess(x, y):\n",
        "    def f(x, y):\n",
        "        x = x.decode()\n",
        "        y = y.decode()\n",
        "        image, mask = read_image_mask(x, y)\n",
        "        return image, mask\n",
        "\n",
        "    image, mask = tf.numpy_function(f, [x, y], [tf.float32, tf.uint8])\n",
        "    image.set_shape([IMG_H, IMG_W, 3])\n",
        "    mask.set_shape([IMG_H, IMG_W, NUM_CLASSES])\n",
        "\n",
        "    return image, mask\n",
        "\n",
        "def tf_dataset(x, y, batch=8):\n",
        "    dataset = tf.data.Dataset.from_tensor_slices((x, y))\n",
        "    dataset = dataset.shuffle(buffer_size=5000)\n",
        "    dataset = dataset.map(preprocess)\n",
        "    dataset = dataset.batch(batch)\n",
        "    dataset = dataset.prefetch(2)\n",
        "    return dataset\n",
        "\n",
        "\n",
        "if __name__ == \"__main__\":\n",
        "    \"\"\" Seeding \"\"\"\n",
        "    np.random.seed(42)\n",
        "    tf.random.set_seed(42)\n",
        "\n",
        "    \"\"\" Directory for storing files \"\"\"\n",
        "    create_dir(\"files\")\n",
        "\n",
        "    \"\"\" Hyperparameters \"\"\"\n",
        "    IMG_H = 512\n",
        "    IMG_W = 512\n",
        "    NUM_CLASSES = 4\n",
        "    input_shape = (IMG_H, IMG_W, 3)\n",
        "\n",
        "    batch_size = 16\n",
        "    lr = 1e-4\n",
        "    num_epochs = 35\n",
        "\n",
        "\n",
        "    # dataset_path = \"C:\\\\Users\\\\asus\\\\Downloads\\\\seg_data_new\"\n",
        "    dataset_path =\"C:\\\\Users\\\\asus\\\\Downloads\\\\resized_train_data\"\n",
        "    save_image_path = \"C:\\\\Users\\\\asus\\\\Downloads\\\\resized_train_data\\\\new_masks\"\n",
        "\n",
        "\n",
        "    \"\"\" Loading the dataset \"\"\"\n",
        "    (train_x, train_y), (valid_x, valid_y), (test_x, test_y) = load_dataset(dataset_path)\n",
        "    print(f\"Train: {len(train_x)}/{len(train_y)} - Valid: {len(valid_x)}/{len(valid_y)} - Test: {len(test_x)}/{len(test_x)}\")\n",
        "    print(\"\")\n",
        "\n",
        "    \"\"\" Process the colormap \"\"\"\n",
        "    # CLASSES= ['low-high-medium','2_Fair_Steel_Corrosion','3_Poor_Steel_Corrosion','4_Severe_Steel_Corrosion']\n",
        "    COLORMAP =[ [0,0,0] , [138, 192, 208], [21, 179, 42], [189, 148, 86] ]\n",
        "\n",
        "\n",
        "    # color_map ={\"BackGround\": (0, 0, 0), \"Fair\": (138, 192, 208), \"Poor\": (21, 179, 42), \"Severe\": (189, 148, 86)}\n",
        "\n",
        "    \"\"\" Dataset Pipeline \"\"\"\n",
        "    train_dataset = tf_dataset(train_x, train_y, batch=batch_size)\n",
        "    valid_dataset = tf_dataset(valid_x, valid_y, batch=batch_size)\n",
        "\n"
      ]
    },
    {
      "cell_type": "code",
      "execution_count": 25,
      "metadata": {},
      "outputs": [],
      "source": [
        "# import os\n",
        "# import cv2\n",
        "# import pickle\n",
        "# import numpy as np\n",
        "\n",
        "# from random import random\n",
        "\n",
        "\n",
        "\n",
        "\n",
        "# class CustomDataset():\n",
        "#     def __init__(self, folder_path, transform=None):\n",
        "#         self.folder_path = folder_path\n",
        "#         self.image_files = sorted(glob(os.path.join(folder_path, 'images', '*')))\n",
        "#         self.mask_files = sorted(glob(os.path.join(folder_path, 'masks', '*')))\n",
        "#         self.transform = transform\n",
        "\n",
        "#     def __len__(self):\n",
        "#         return len(self.image_files)\n",
        "\n",
        "#     def __getitem__(self, idx):\n",
        "#         image_path = self.image_files[idx]\n",
        "#         mask_path = self.mask_files[idx]\n",
        "\n",
        "#         image = cv2.imread(image_path)\n",
        "#         mask = cv2.imread(mask_path, cv2.IMREAD_GRAYSCALE)\n",
        "\n",
        "#         sample = {'image': image, 'mask': mask}\n",
        "\n",
        "#         if self.transform:\n",
        "#             sample = self.transform(sample)\n",
        "\n",
        "#         return sample\n",
        "\n",
        "# # Example usage\n",
        "# folder_path = \"C:\\\\Users\\\\asus\\\\Downloads\\\\paper_512\"\n",
        "# dataset = CustomDataset(folder_path)\n",
        "\n"
      ]
    },
    {
      "cell_type": "code",
      "execution_count": null,
      "metadata": {},
      "outputs": [],
      "source": [
        "# import matplotlib.pyplot as plt\n",
        "# sample = dataset[0]\n",
        "# plt.figure(figsize=(10, 5))\n",
        "# plt.subplot(1,2,1)\n",
        "# plt.imshow(sample['image'],cmap='plasma')\n",
        "# plt.axis('off')\n",
        "\n",
        "\n",
        "# plt.subplot(1,2,2)\n",
        "# plt.imshow(sample['mask'])\n",
        "# plt.axis('off')\n"
      ]
    },
    {
      "cell_type": "code",
      "execution_count": 8,
      "metadata": {
        "colab": {
          "base_uri": "https://localhost:8080/"
        },
        "id": "nPOOqfAv7GeA",
        "outputId": "9902aadd-5e5f-4e5b-e20a-96f59845b87b"
      },
      "outputs": [
        {
          "name": "stdout",
          "output_type": "stream",
          "text": [
            "Train: 459/459 - Valid: 152/152 - Test: 152/152\n",
            "\n"
          ]
        },
        {
          "name": "stderr",
          "output_type": "stream",
          "text": [
            "  0%|          | 0/459 [00:00<?, ?it/s]"
          ]
        },
        {
          "name": "stderr",
          "output_type": "stream",
          "text": [
            "  0%|          | 2/459 [00:00<00:40, 11.32it/s]"
          ]
        },
        {
          "name": "stdout",
          "output_type": "stream",
          "text": [
            "a\\images1\\image_270 hii\n",
            "C:\\Users\\asus\\Downloads\\resized_train_data\\images1\\image_270.jpg C:\\Users\\asus\\Downloads\\resized_train_data\\masks1\\mask_270.png\n",
            "C:\\Users\\asus\\Downloads\\resized_train_data\\new_masks\\a\\images1\\image_270.png\n",
            "a\\images1\\image_360 hii\n",
            "C:\\Users\\asus\\Downloads\\resized_train_data\\images1\\image_360.jpg C:\\Users\\asus\\Downloads\\resized_train_data\\masks1\\mask_360.png\n",
            "C:\\Users\\asus\\Downloads\\resized_train_data\\new_masks\\a\\images1\\image_360.png\n",
            "a\\images1\\image_154 hii\n",
            "C:\\Users\\asus\\Downloads\\resized_train_data\\images1\\image_154.jpg C:\\Users\\asus\\Downloads\\resized_train_data\\masks1\\mask_154.png\n"
          ]
        },
        {
          "name": "stderr",
          "output_type": "stream",
          "text": [
            "  1%|          | 4/459 [00:00<00:47,  9.64it/s]"
          ]
        },
        {
          "name": "stdout",
          "output_type": "stream",
          "text": [
            "C:\\Users\\asus\\Downloads\\resized_train_data\\new_masks\\a\\images1\\image_154.png\n",
            "a\\images1\\image_482 hii\n",
            "C:\\Users\\asus\\Downloads\\resized_train_data\\images1\\image_482.jpg C:\\Users\\asus\\Downloads\\resized_train_data\\masks1\\mask_482.png\n",
            "C:\\Users\\asus\\Downloads\\resized_train_data\\new_masks\\a\\images1\\image_482.png\n",
            "a\\images1\\image_366 hii\n",
            "C:\\Users\\asus\\Downloads\\resized_train_data\\images1\\image_366.jpg C:\\Users\\asus\\Downloads\\resized_train_data\\masks1\\mask_366.png\n"
          ]
        },
        {
          "name": "stderr",
          "output_type": "stream",
          "text": [
            "  2%|▏         | 7/459 [00:00<00:42, 10.51it/s]"
          ]
        },
        {
          "name": "stdout",
          "output_type": "stream",
          "text": [
            "C:\\Users\\asus\\Downloads\\resized_train_data\\new_masks\\a\\images1\\image_366.png\n",
            "a\\images1\\image_263 hii\n",
            "C:\\Users\\asus\\Downloads\\resized_train_data\\images1\\image_263.jpg C:\\Users\\asus\\Downloads\\resized_train_data\\masks1\\mask_263.png\n",
            "C:\\Users\\asus\\Downloads\\resized_train_data\\new_masks\\a\\images1\\image_263.png\n",
            "a\\images1\\image_418 hii\n",
            "C:\\Users\\asus\\Downloads\\resized_train_data\\images1\\image_418.jpg C:\\Users\\asus\\Downloads\\resized_train_data\\masks1\\mask_418.png\n",
            "C:\\Users\\asus\\Downloads\\resized_train_data\\new_masks\\a\\images1\\image_418.png\n"
          ]
        },
        {
          "name": "stderr",
          "output_type": "stream",
          "text": [
            "  2%|▏         | 9/459 [00:00<00:40, 11.03it/s]"
          ]
        },
        {
          "name": "stdout",
          "output_type": "stream",
          "text": [
            "a\\images1\\image_318 hii\n",
            "C:\\Users\\asus\\Downloads\\resized_train_data\\images1\\image_318.jpg C:\\Users\\asus\\Downloads\\resized_train_data\\masks1\\mask_318.png\n",
            "C:\\Users\\asus\\Downloads\\resized_train_data\\new_masks\\a\\images1\\image_318.png\n",
            "a\\images1\\image_116 hii\n",
            "C:\\Users\\asus\\Downloads\\resized_train_data\\images1\\image_116.jpg C:\\Users\\asus\\Downloads\\resized_train_data\\masks1\\mask_116.png\n",
            "C:\\Users\\asus\\Downloads\\resized_train_data\\new_masks\\a\\images1\\image_116.png\n",
            "a\\images1\\image_175 hii\n",
            "C:\\Users\\asus\\Downloads\\resized_train_data\\images1\\image_175.jpg C:\\Users\\asus\\Downloads\\resized_train_data\\masks1\\mask_175.png\n"
          ]
        },
        {
          "name": "stderr",
          "output_type": "stream",
          "text": [
            "  2%|▏         | 11/459 [00:01<00:39, 11.31it/s]"
          ]
        },
        {
          "name": "stdout",
          "output_type": "stream",
          "text": [
            "C:\\Users\\asus\\Downloads\\resized_train_data\\new_masks\\a\\images1\\image_175.png\n",
            "a\\images1\\image_686 hii\n",
            "C:\\Users\\asus\\Downloads\\resized_train_data\\images1\\image_686.jpg C:\\Users\\asus\\Downloads\\resized_train_data\\masks1\\mask_686.png\n",
            "C:\\Users\\asus\\Downloads\\resized_train_data\\new_masks\\a\\images1\\image_686.png\n",
            "a\\images1\\image_131 hii\n",
            "C:\\Users\\asus\\Downloads\\resized_train_data\\images1\\image_131.jpg C:\\Users\\asus\\Downloads\\resized_train_data\\masks1\\mask_131.png\n",
            "C:\\Users\\asus\\Downloads\\resized_train_data\\new_masks\\a\\images1\\image_131.png\n",
            "a\\images1\\image_225 hii\n",
            "C:\\Users\\asus\\Downloads\\resized_train_data\\images1\\image_225.jpg C:\\Users\\asus\\Downloads\\resized_train_data\\masks1\\mask_225.png\n"
          ]
        },
        {
          "name": "stderr",
          "output_type": "stream",
          "text": [
            "  3%|▎         | 15/459 [00:01<00:38, 11.66it/s]"
          ]
        },
        {
          "name": "stdout",
          "output_type": "stream",
          "text": [
            "C:\\Users\\asus\\Downloads\\resized_train_data\\new_masks\\a\\images1\\image_225.png\n",
            "a\\images1\\image_45 hii\n",
            "C:\\Users\\asus\\Downloads\\resized_train_data\\images1\\image_45.jpg C:\\Users\\asus\\Downloads\\resized_train_data\\masks1\\mask_45.png\n",
            "C:\\Users\\asus\\Downloads\\resized_train_data\\new_masks\\a\\images1\\image_45.png\n",
            "a\\images1\\image_123 hii\n",
            "C:\\Users\\asus\\Downloads\\resized_train_data\\images1\\image_123.jpg C:\\Users\\asus\\Downloads\\resized_train_data\\masks1\\mask_123.png\n",
            "C:\\Users\\asus\\Downloads\\resized_train_data\\new_masks\\a\\images1\\image_123.png\n",
            "a\\images1\\image_511 hii\n",
            "C:\\Users\\asus\\Downloads\\resized_train_data\\images1\\image_511.jpg C:\\Users\\asus\\Downloads\\resized_train_data\\masks1\\mask_511.png\n"
          ]
        },
        {
          "name": "stderr",
          "output_type": "stream",
          "text": [
            "  4%|▎         | 17/459 [00:01<00:37, 11.85it/s]"
          ]
        },
        {
          "name": "stdout",
          "output_type": "stream",
          "text": [
            "C:\\Users\\asus\\Downloads\\resized_train_data\\new_masks\\a\\images1\\image_511.png\n",
            "a\\images1\\image_200 hii\n",
            "C:\\Users\\asus\\Downloads\\resized_train_data\\images1\\image_200.jpg C:\\Users\\asus\\Downloads\\resized_train_data\\masks1\\mask_200.png\n",
            "C:\\Users\\asus\\Downloads\\resized_train_data\\new_masks\\a\\images1\\image_200.png\n",
            "a\\images1\\image_397 hii\n",
            "C:\\Users\\asus\\Downloads\\resized_train_data\\images1\\image_397.jpg C:\\Users\\asus\\Downloads\\resized_train_data\\masks1\\mask_397.png\n",
            "C:\\Users\\asus\\Downloads\\resized_train_data\\new_masks\\a\\images1\\image_397.png\n",
            "a\\images1\\image_32 hii\n",
            "C:\\Users\\asus\\Downloads\\resized_train_data\\images1\\image_32.jpg C:\\Users\\asus\\Downloads\\resized_train_data\\masks1\\mask_32.png\n"
          ]
        },
        {
          "name": "stderr",
          "output_type": "stream",
          "text": [
            "  5%|▍         | 21/459 [00:01<00:36, 12.03it/s]"
          ]
        },
        {
          "name": "stdout",
          "output_type": "stream",
          "text": [
            "C:\\Users\\asus\\Downloads\\resized_train_data\\new_masks\\a\\images1\\image_32.png\n",
            "a\\images1\\image_653 hii\n",
            "C:\\Users\\asus\\Downloads\\resized_train_data\\images1\\image_653.jpg C:\\Users\\asus\\Downloads\\resized_train_data\\masks1\\mask_653.png\n",
            "C:\\Users\\asus\\Downloads\\resized_train_data\\new_masks\\a\\images1\\image_653.png\n",
            "a\\images1\\image_22 hii\n",
            "C:\\Users\\asus\\Downloads\\resized_train_data\\images1\\image_22.jpg C:\\Users\\asus\\Downloads\\resized_train_data\\masks1\\mask_22.png\n",
            "C:\\Users\\asus\\Downloads\\resized_train_data\\new_masks\\a\\images1\\image_22.png\n",
            "a\\images1\\image_501 hii\n",
            "C:\\Users\\asus\\Downloads\\resized_train_data\\images1\\image_501.jpg C:\\Users\\asus\\Downloads\\resized_train_data\\masks1\\mask_501.png\n"
          ]
        },
        {
          "name": "stderr",
          "output_type": "stream",
          "text": [
            "  5%|▌         | 23/459 [00:02<00:36, 12.01it/s]"
          ]
        },
        {
          "name": "stdout",
          "output_type": "stream",
          "text": [
            "C:\\Users\\asus\\Downloads\\resized_train_data\\new_masks\\a\\images1\\image_501.png\n",
            "a\\images1\\image_353 hii\n",
            "C:\\Users\\asus\\Downloads\\resized_train_data\\images1\\image_353.jpg C:\\Users\\asus\\Downloads\\resized_train_data\\masks1\\mask_353.png\n",
            "C:\\Users\\asus\\Downloads\\resized_train_data\\new_masks\\a\\images1\\image_353.png\n",
            "a\\images1\\image_329 hii\n",
            "C:\\Users\\asus\\Downloads\\resized_train_data\\images1\\image_329.jpg C:\\Users\\asus\\Downloads\\resized_train_data\\masks1\\mask_329.png\n",
            "C:\\Users\\asus\\Downloads\\resized_train_data\\new_masks\\a\\images1\\image_329.png\n",
            "a\\images1\\image_565 hii\n",
            "C:\\Users\\asus\\Downloads\\resized_train_data\\images1\\image_565.jpg C:\\Users\\asus\\Downloads\\resized_train_data\\masks1\\mask_565.png\n"
          ]
        },
        {
          "name": "stderr",
          "output_type": "stream",
          "text": [
            "  6%|▌         | 27/459 [00:02<00:37, 11.56it/s]"
          ]
        },
        {
          "name": "stdout",
          "output_type": "stream",
          "text": [
            "C:\\Users\\asus\\Downloads\\resized_train_data\\new_masks\\a\\images1\\image_565.png\n",
            "a\\images1\\image_486 hii\n",
            "C:\\Users\\asus\\Downloads\\resized_train_data\\images1\\image_486.jpg C:\\Users\\asus\\Downloads\\resized_train_data\\masks1\\mask_486.png\n",
            "C:\\Users\\asus\\Downloads\\resized_train_data\\new_masks\\a\\images1\\image_486.png\n",
            "a\\images1\\image_428 hii\n",
            "C:\\Users\\asus\\Downloads\\resized_train_data\\images1\\image_428.jpg C:\\Users\\asus\\Downloads\\resized_train_data\\masks1\\mask_428.png\n",
            "C:\\Users\\asus\\Downloads\\resized_train_data\\new_masks\\a\\images1\\image_428.png\n"
          ]
        },
        {
          "name": "stderr",
          "output_type": "stream",
          "text": [
            "  6%|▋         | 29/459 [00:02<00:36, 11.92it/s]"
          ]
        },
        {
          "name": "stdout",
          "output_type": "stream",
          "text": [
            "a\\images1\\image_301 hii\n",
            "C:\\Users\\asus\\Downloads\\resized_train_data\\images1\\image_301.jpg C:\\Users\\asus\\Downloads\\resized_train_data\\masks1\\mask_301.png\n",
            "C:\\Users\\asus\\Downloads\\resized_train_data\\new_masks\\a\\images1\\image_301.png\n",
            "a\\images1\\image_109 hii\n",
            "C:\\Users\\asus\\Downloads\\resized_train_data\\images1\\image_109.jpg C:\\Users\\asus\\Downloads\\resized_train_data\\masks1\\mask_109.png\n",
            "C:\\Users\\asus\\Downloads\\resized_train_data\\new_masks\\a\\images1\\image_109.png\n",
            "a\\images1\\image_514 hii\n",
            "C:\\Users\\asus\\Downloads\\resized_train_data\\images1\\image_514.jpg C:\\Users\\asus\\Downloads\\resized_train_data\\masks1\\mask_514.png\n"
          ]
        },
        {
          "name": "stderr",
          "output_type": "stream",
          "text": [
            "  7%|▋         | 31/459 [00:02<00:35, 12.02it/s]"
          ]
        },
        {
          "name": "stdout",
          "output_type": "stream",
          "text": [
            "C:\\Users\\asus\\Downloads\\resized_train_data\\new_masks\\a\\images1\\image_514.png\n",
            "a\\images1\\image_692 hii\n",
            "C:\\Users\\asus\\Downloads\\resized_train_data\\images1\\image_692.jpg C:\\Users\\asus\\Downloads\\resized_train_data\\masks1\\mask_692.png\n",
            "C:\\Users\\asus\\Downloads\\resized_train_data\\new_masks\\a\\images1\\image_692.png\n",
            "a\\images1\\image_276 hii\n",
            "C:\\Users\\asus\\Downloads\\resized_train_data\\images1\\image_276.jpg C:\\Users\\asus\\Downloads\\resized_train_data\\masks1\\mask_276.png\n",
            "C:\\Users\\asus\\Downloads\\resized_train_data\\new_masks\\a\\images1\\image_276.png\n",
            "a\\images1\\image_519 hii\n",
            "C:\\Users\\asus\\Downloads\\resized_train_data\\images1\\image_519.jpg C:\\Users\\asus\\Downloads\\resized_train_data\\masks1\\mask_519.png\n"
          ]
        },
        {
          "name": "stderr",
          "output_type": "stream",
          "text": [
            "  8%|▊         | 35/459 [00:02<00:34, 12.41it/s]"
          ]
        },
        {
          "name": "stdout",
          "output_type": "stream",
          "text": [
            "C:\\Users\\asus\\Downloads\\resized_train_data\\new_masks\\a\\images1\\image_519.png\n",
            "a\\images1\\image_61 hii\n",
            "C:\\Users\\asus\\Downloads\\resized_train_data\\images1\\image_61.jpg C:\\Users\\asus\\Downloads\\resized_train_data\\masks1\\mask_61.png\n",
            "C:\\Users\\asus\\Downloads\\resized_train_data\\new_masks\\a\\images1\\image_61.png\n",
            "a\\images1\\image_534 hii\n",
            "C:\\Users\\asus\\Downloads\\resized_train_data\\images1\\image_534.jpg C:\\Users\\asus\\Downloads\\resized_train_data\\masks1\\mask_534.png\n",
            "C:\\Users\\asus\\Downloads\\resized_train_data\\new_masks\\a\\images1\\image_534.png\n",
            "a\\images1\\image_135 hii\n",
            "C:\\Users\\asus\\Downloads\\resized_train_data\\images1\\image_135.jpg C:\\Users\\asus\\Downloads\\resized_train_data\\masks1\\mask_135.png\n"
          ]
        },
        {
          "name": "stderr",
          "output_type": "stream",
          "text": [
            "  8%|▊         | 37/459 [00:03<00:33, 12.51it/s]"
          ]
        },
        {
          "name": "stdout",
          "output_type": "stream",
          "text": [
            "C:\\Users\\asus\\Downloads\\resized_train_data\\new_masks\\a\\images1\\image_135.png\n",
            "a\\images1\\image_622 hii\n",
            "C:\\Users\\asus\\Downloads\\resized_train_data\\images1\\image_622.jpg C:\\Users\\asus\\Downloads\\resized_train_data\\masks1\\mask_622.png\n",
            "C:\\Users\\asus\\Downloads\\resized_train_data\\new_masks\\a\\images1\\image_622.png\n",
            "a\\images1\\image_170 hii\n",
            "C:\\Users\\asus\\Downloads\\resized_train_data\\images1\\image_170.jpg C:\\Users\\asus\\Downloads\\resized_train_data\\masks1\\mask_170.png\n",
            "C:\\Users\\asus\\Downloads\\resized_train_data\\new_masks\\a\\images1\\image_170.png\n",
            "a\\images1\\image_395 hii\n",
            "C:\\Users\\asus\\Downloads\\resized_train_data\\images1\\image_395.jpg C:\\Users\\asus\\Downloads\\resized_train_data\\masks1\\mask_395.png\n"
          ]
        },
        {
          "name": "stderr",
          "output_type": "stream",
          "text": [
            "  9%|▉         | 41/459 [00:03<00:33, 12.63it/s]"
          ]
        },
        {
          "name": "stdout",
          "output_type": "stream",
          "text": [
            "C:\\Users\\asus\\Downloads\\resized_train_data\\new_masks\\a\\images1\\image_395.png\n",
            "a\\images1\\image_591 hii\n",
            "C:\\Users\\asus\\Downloads\\resized_train_data\\images1\\image_591.jpg C:\\Users\\asus\\Downloads\\resized_train_data\\masks1\\mask_591.png\n",
            "C:\\Users\\asus\\Downloads\\resized_train_data\\new_masks\\a\\images1\\image_591.png\n",
            "a\\images1\\image_190 hii\n",
            "C:\\Users\\asus\\Downloads\\resized_train_data\\images1\\image_190.jpg C:\\Users\\asus\\Downloads\\resized_train_data\\masks1\\mask_190.png\n",
            "C:\\Users\\asus\\Downloads\\resized_train_data\\new_masks\\a\\images1\\image_190.png\n",
            "a\\images1\\image_187 hii\n",
            "C:\\Users\\asus\\Downloads\\resized_train_data\\images1\\image_187.jpg C:\\Users\\asus\\Downloads\\resized_train_data\\masks1\\mask_187.png\n"
          ]
        },
        {
          "name": "stderr",
          "output_type": "stream",
          "text": [
            "  9%|▉         | 43/459 [00:03<00:32, 12.68it/s]"
          ]
        },
        {
          "name": "stdout",
          "output_type": "stream",
          "text": [
            "C:\\Users\\asus\\Downloads\\resized_train_data\\new_masks\\a\\images1\\image_187.png\n",
            "a\\images1\\image_420 hii\n",
            "C:\\Users\\asus\\Downloads\\resized_train_data\\images1\\image_420.jpg C:\\Users\\asus\\Downloads\\resized_train_data\\masks1\\mask_420.png\n",
            "C:\\Users\\asus\\Downloads\\resized_train_data\\new_masks\\a\\images1\\image_420.png\n",
            "a\\images1\\image_241 hii\n",
            "C:\\Users\\asus\\Downloads\\resized_train_data\\images1\\image_241.jpg C:\\Users\\asus\\Downloads\\resized_train_data\\masks1\\mask_241.png\n",
            "C:\\Users\\asus\\Downloads\\resized_train_data\\new_masks\\a\\images1\\image_241.png\n",
            "a\\images1\\image_44 hii\n",
            "C:\\Users\\asus\\Downloads\\resized_train_data\\images1\\image_44.jpg C:\\Users\\asus\\Downloads\\resized_train_data\\masks1\\mask_44.png\n"
          ]
        },
        {
          "name": "stderr",
          "output_type": "stream",
          "text": [
            " 10%|█         | 47/459 [00:03<00:32, 12.61it/s]"
          ]
        },
        {
          "name": "stdout",
          "output_type": "stream",
          "text": [
            "C:\\Users\\asus\\Downloads\\resized_train_data\\new_masks\\a\\images1\\image_44.png\n",
            "a\\images1\\image_27 hii\n",
            "C:\\Users\\asus\\Downloads\\resized_train_data\\images1\\image_27.jpg C:\\Users\\asus\\Downloads\\resized_train_data\\masks1\\mask_27.png\n",
            "C:\\Users\\asus\\Downloads\\resized_train_data\\new_masks\\a\\images1\\image_27.png\n",
            "a\\images1\\image_401 hii\n",
            "C:\\Users\\asus\\Downloads\\resized_train_data\\images1\\image_401.jpg C:\\Users\\asus\\Downloads\\resized_train_data\\masks1\\mask_401.png\n",
            "C:\\Users\\asus\\Downloads\\resized_train_data\\new_masks\\a\\images1\\image_401.png\n",
            "a\\images1\\image_672 hii\n",
            "C:\\Users\\asus\\Downloads\\resized_train_data\\images1\\image_672.jpg C:\\Users\\asus\\Downloads\\resized_train_data\\masks1\\mask_672.png\n"
          ]
        },
        {
          "name": "stderr",
          "output_type": "stream",
          "text": [
            " 11%|█         | 49/459 [00:04<00:32, 12.79it/s]"
          ]
        },
        {
          "name": "stdout",
          "output_type": "stream",
          "text": [
            "C:\\Users\\asus\\Downloads\\resized_train_data\\new_masks\\a\\images1\\image_672.png\n",
            "a\\images1\\image_256 hii\n",
            "C:\\Users\\asus\\Downloads\\resized_train_data\\images1\\image_256.jpg C:\\Users\\asus\\Downloads\\resized_train_data\\masks1\\mask_256.png\n",
            "C:\\Users\\asus\\Downloads\\resized_train_data\\new_masks\\a\\images1\\image_256.png\n",
            "a\\images1\\image_451 hii\n",
            "C:\\Users\\asus\\Downloads\\resized_train_data\\images1\\image_451.jpg C:\\Users\\asus\\Downloads\\resized_train_data\\masks1\\mask_451.png\n",
            "C:\\Users\\asus\\Downloads\\resized_train_data\\new_masks\\a\\images1\\image_451.png\n",
            "a\\images1\\image_580 hii\n",
            "C:\\Users\\asus\\Downloads\\resized_train_data\\images1\\image_580.jpg C:\\Users\\asus\\Downloads\\resized_train_data\\masks1\\mask_580.png\n"
          ]
        },
        {
          "name": "stderr",
          "output_type": "stream",
          "text": [
            " 12%|█▏        | 53/459 [00:04<00:35, 11.37it/s]"
          ]
        },
        {
          "name": "stdout",
          "output_type": "stream",
          "text": [
            "C:\\Users\\asus\\Downloads\\resized_train_data\\new_masks\\a\\images1\\image_580.png\n",
            "a\\images1\\image_711 hii\n",
            "C:\\Users\\asus\\Downloads\\resized_train_data\\images1\\image_711.jpg C:\\Users\\asus\\Downloads\\resized_train_data\\masks1\\mask_711.png\n",
            "C:\\Users\\asus\\Downloads\\resized_train_data\\new_masks\\a\\images1\\image_711.png\n",
            "a\\images1\\image_459 hii\n",
            "C:\\Users\\asus\\Downloads\\resized_train_data\\images1\\image_459.jpg C:\\Users\\asus\\Downloads\\resized_train_data\\masks1\\mask_459.png\n",
            "C:\\Users\\asus\\Downloads\\resized_train_data\\new_masks\\a\\images1\\image_459.png\n"
          ]
        },
        {
          "name": "stderr",
          "output_type": "stream",
          "text": [
            " 12%|█▏        | 55/459 [00:04<00:34, 11.65it/s]"
          ]
        },
        {
          "name": "stdout",
          "output_type": "stream",
          "text": [
            "a\\images1\\image_254 hii\n",
            "C:\\Users\\asus\\Downloads\\resized_train_data\\images1\\image_254.jpg C:\\Users\\asus\\Downloads\\resized_train_data\\masks1\\mask_254.png\n",
            "C:\\Users\\asus\\Downloads\\resized_train_data\\new_masks\\a\\images1\\image_254.png\n",
            "a\\images1\\image_527 hii\n",
            "C:\\Users\\asus\\Downloads\\resized_train_data\\images1\\image_527.jpg C:\\Users\\asus\\Downloads\\resized_train_data\\masks1\\mask_527.png\n",
            "C:\\Users\\asus\\Downloads\\resized_train_data\\new_masks\\a\\images1\\image_527.png\n",
            "a\\images1\\image_34 hii\n",
            "C:\\Users\\asus\\Downloads\\resized_train_data\\images1\\image_34.jpg C:\\Users\\asus\\Downloads\\resized_train_data\\masks1\\mask_34.png\n"
          ]
        },
        {
          "name": "stderr",
          "output_type": "stream",
          "text": [
            " 12%|█▏        | 57/459 [00:04<00:33, 11.86it/s]"
          ]
        },
        {
          "name": "stdout",
          "output_type": "stream",
          "text": [
            "C:\\Users\\asus\\Downloads\\resized_train_data\\new_masks\\a\\images1\\image_34.png\n",
            "a\\images1\\image_466 hii\n",
            "C:\\Users\\asus\\Downloads\\resized_train_data\\images1\\image_466.jpg C:\\Users\\asus\\Downloads\\resized_train_data\\masks1\\mask_466.png\n",
            "C:\\Users\\asus\\Downloads\\resized_train_data\\new_masks\\a\\images1\\image_466.png\n",
            "a\\images1\\image_441 hii\n",
            "C:\\Users\\asus\\Downloads\\resized_train_data\\images1\\image_441.jpg C:\\Users\\asus\\Downloads\\resized_train_data\\masks1\\mask_441.png\n",
            "C:\\Users\\asus\\Downloads\\resized_train_data\\new_masks\\a\\images1\\image_441.png\n",
            "a\\images1\\image_502 hii\n",
            "C:\\Users\\asus\\Downloads\\resized_train_data\\images1\\image_502.jpg C:\\Users\\asus\\Downloads\\resized_train_data\\masks1\\mask_502.png\n"
          ]
        },
        {
          "name": "stderr",
          "output_type": "stream",
          "text": [
            " 13%|█▎        | 61/459 [00:05<00:35, 11.12it/s]"
          ]
        },
        {
          "name": "stdout",
          "output_type": "stream",
          "text": [
            "C:\\Users\\asus\\Downloads\\resized_train_data\\new_masks\\a\\images1\\image_502.png\n",
            "a\\images1\\image_444 hii\n",
            "C:\\Users\\asus\\Downloads\\resized_train_data\\images1\\image_444.jpg C:\\Users\\asus\\Downloads\\resized_train_data\\masks1\\mask_444.png\n",
            "C:\\Users\\asus\\Downloads\\resized_train_data\\new_masks\\a\\images1\\image_444.png\n",
            "a\\images1\\image_314 hii\n",
            "C:\\Users\\asus\\Downloads\\resized_train_data\\images1\\image_314.jpg C:\\Users\\asus\\Downloads\\resized_train_data\\masks1\\mask_314.png\n",
            "C:\\Users\\asus\\Downloads\\resized_train_data\\new_masks\\a\\images1\\image_314.png\n"
          ]
        },
        {
          "name": "stderr",
          "output_type": "stream",
          "text": [
            " 14%|█▎        | 63/459 [00:05<00:33, 11.65it/s]"
          ]
        },
        {
          "name": "stdout",
          "output_type": "stream",
          "text": [
            "a\\images1\\image_665 hii\n",
            "C:\\Users\\asus\\Downloads\\resized_train_data\\images1\\image_665.jpg C:\\Users\\asus\\Downloads\\resized_train_data\\masks1\\mask_665.png\n",
            "C:\\Users\\asus\\Downloads\\resized_train_data\\new_masks\\a\\images1\\image_665.png\n",
            "a\\images1\\image_476 hii\n",
            "C:\\Users\\asus\\Downloads\\resized_train_data\\images1\\image_476.jpg C:\\Users\\asus\\Downloads\\resized_train_data\\masks1\\mask_476.png\n",
            "C:\\Users\\asus\\Downloads\\resized_train_data\\new_masks\\a\\images1\\image_476.png\n",
            "a\\images1\\image_762 hii\n",
            "C:\\Users\\asus\\Downloads\\resized_train_data\\images1\\image_762.jpg C:\\Users\\asus\\Downloads\\resized_train_data\\masks1\\mask_762.png\n"
          ]
        },
        {
          "name": "stderr",
          "output_type": "stream",
          "text": [
            " 14%|█▍        | 65/459 [00:05<00:33, 11.90it/s]"
          ]
        },
        {
          "name": "stdout",
          "output_type": "stream",
          "text": [
            "C:\\Users\\asus\\Downloads\\resized_train_data\\new_masks\\a\\images1\\image_762.png\n",
            "a\\images1\\image_445 hii\n",
            "C:\\Users\\asus\\Downloads\\resized_train_data\\images1\\image_445.jpg C:\\Users\\asus\\Downloads\\resized_train_data\\masks1\\mask_445.png\n",
            "C:\\Users\\asus\\Downloads\\resized_train_data\\new_masks\\a\\images1\\image_445.png\n",
            "a\\images1\\image_283 hii\n",
            "C:\\Users\\asus\\Downloads\\resized_train_data\\images1\\image_283.jpg C:\\Users\\asus\\Downloads\\resized_train_data\\masks1\\mask_283.png\n",
            "C:\\Users\\asus\\Downloads\\resized_train_data\\new_masks\\a\\images1\\image_283.png\n",
            "a\\images1\\image_233 hii\n",
            "C:\\Users\\asus\\Downloads\\resized_train_data\\images1\\image_233.jpg C:\\Users\\asus\\Downloads\\resized_train_data\\masks1\\mask_233.png\n"
          ]
        },
        {
          "name": "stderr",
          "output_type": "stream",
          "text": [
            " 15%|█▌        | 69/459 [00:05<00:31, 12.44it/s]"
          ]
        },
        {
          "name": "stdout",
          "output_type": "stream",
          "text": [
            "C:\\Users\\asus\\Downloads\\resized_train_data\\new_masks\\a\\images1\\image_233.png\n",
            "a\\images1\\image_491 hii\n",
            "C:\\Users\\asus\\Downloads\\resized_train_data\\images1\\image_491.jpg C:\\Users\\asus\\Downloads\\resized_train_data\\masks1\\mask_491.png\n",
            "C:\\Users\\asus\\Downloads\\resized_train_data\\new_masks\\a\\images1\\image_491.png\n",
            "a\\images1\\image_523 hii\n",
            "C:\\Users\\asus\\Downloads\\resized_train_data\\images1\\image_523.jpg C:\\Users\\asus\\Downloads\\resized_train_data\\masks1\\mask_523.png\n",
            "C:\\Users\\asus\\Downloads\\resized_train_data\\new_masks\\a\\images1\\image_523.png\n",
            "a\\images1\\image_666 hii\n",
            "C:\\Users\\asus\\Downloads\\resized_train_data\\images1\\image_666.jpg C:\\Users\\asus\\Downloads\\resized_train_data\\masks1\\mask_666.png\n"
          ]
        },
        {
          "name": "stderr",
          "output_type": "stream",
          "text": [
            " 15%|█▌        | 71/459 [00:05<00:31, 12.30it/s]"
          ]
        },
        {
          "name": "stdout",
          "output_type": "stream",
          "text": [
            "C:\\Users\\asus\\Downloads\\resized_train_data\\new_masks\\a\\images1\\image_666.png\n",
            "a\\images1\\image_150 hii\n",
            "C:\\Users\\asus\\Downloads\\resized_train_data\\images1\\image_150.jpg C:\\Users\\asus\\Downloads\\resized_train_data\\masks1\\mask_150.png\n",
            "C:\\Users\\asus\\Downloads\\resized_train_data\\new_masks\\a\\images1\\image_150.png\n",
            "a\\images1\\image_316 hii\n",
            "C:\\Users\\asus\\Downloads\\resized_train_data\\images1\\image_316.jpg C:\\Users\\asus\\Downloads\\resized_train_data\\masks1\\mask_316.png\n",
            "C:\\Users\\asus\\Downloads\\resized_train_data\\new_masks\\a\\images1\\image_316.png\n",
            "a\\images1\\image_207 hii\n",
            "C:\\Users\\asus\\Downloads\\resized_train_data\\images1\\image_207.jpg C:\\Users\\asus\\Downloads\\resized_train_data\\masks1\\mask_207.png\n"
          ]
        },
        {
          "name": "stderr",
          "output_type": "stream",
          "text": [
            " 16%|█▋        | 75/459 [00:06<00:30, 12.45it/s]"
          ]
        },
        {
          "name": "stdout",
          "output_type": "stream",
          "text": [
            "C:\\Users\\asus\\Downloads\\resized_train_data\\new_masks\\a\\images1\\image_207.png\n",
            "a\\images1\\image_430 hii\n",
            "C:\\Users\\asus\\Downloads\\resized_train_data\\images1\\image_430.jpg C:\\Users\\asus\\Downloads\\resized_train_data\\masks1\\mask_430.png\n",
            "C:\\Users\\asus\\Downloads\\resized_train_data\\new_masks\\a\\images1\\image_430.png\n",
            "a\\images1\\image_228 hii\n",
            "C:\\Users\\asus\\Downloads\\resized_train_data\\images1\\image_228.jpg C:\\Users\\asus\\Downloads\\resized_train_data\\masks1\\mask_228.png\n",
            "C:\\Users\\asus\\Downloads\\resized_train_data\\new_masks\\a\\images1\\image_228.png\n",
            "a\\images1\\image_98 hii\n",
            "C:\\Users\\asus\\Downloads\\resized_train_data\\images1\\image_98.jpg C:\\Users\\asus\\Downloads\\resized_train_data\\masks1\\mask_98.png\n"
          ]
        },
        {
          "name": "stderr",
          "output_type": "stream",
          "text": [
            " 17%|█▋        | 77/459 [00:06<00:31, 12.27it/s]"
          ]
        },
        {
          "name": "stdout",
          "output_type": "stream",
          "text": [
            "C:\\Users\\asus\\Downloads\\resized_train_data\\new_masks\\a\\images1\\image_98.png\n",
            "a\\images1\\image_698 hii\n",
            "C:\\Users\\asus\\Downloads\\resized_train_data\\images1\\image_698.jpg C:\\Users\\asus\\Downloads\\resized_train_data\\masks1\\mask_698.png\n",
            "C:\\Users\\asus\\Downloads\\resized_train_data\\new_masks\\a\\images1\\image_698.png\n",
            "a\\images1\\image_51 hii\n",
            "C:\\Users\\asus\\Downloads\\resized_train_data\\images1\\image_51.jpg C:\\Users\\asus\\Downloads\\resized_train_data\\masks1\\mask_51.png\n",
            "C:\\Users\\asus\\Downloads\\resized_train_data\\new_masks\\a\\images1\\image_51.png\n",
            "a\\images1\\image_508 hii\n",
            "C:\\Users\\asus\\Downloads\\resized_train_data\\images1\\image_508.jpg C:\\Users\\asus\\Downloads\\resized_train_data\\masks1\\mask_508.png\n"
          ]
        },
        {
          "name": "stderr",
          "output_type": "stream",
          "text": [
            " 18%|█▊        | 81/459 [00:06<00:30, 12.53it/s]"
          ]
        },
        {
          "name": "stdout",
          "output_type": "stream",
          "text": [
            "C:\\Users\\asus\\Downloads\\resized_train_data\\new_masks\\a\\images1\\image_508.png\n",
            "a\\images1\\image_292 hii\n",
            "C:\\Users\\asus\\Downloads\\resized_train_data\\images1\\image_292.jpg C:\\Users\\asus\\Downloads\\resized_train_data\\masks1\\mask_292.png\n",
            "C:\\Users\\asus\\Downloads\\resized_train_data\\new_masks\\a\\images1\\image_292.png\n",
            "a\\images1\\image_236 hii\n",
            "C:\\Users\\asus\\Downloads\\resized_train_data\\images1\\image_236.jpg C:\\Users\\asus\\Downloads\\resized_train_data\\masks1\\mask_236.png\n",
            "C:\\Users\\asus\\Downloads\\resized_train_data\\new_masks\\a\\images1\\image_236.png\n",
            "a\\images1\\image_6 hii\n",
            "C:\\Users\\asus\\Downloads\\resized_train_data\\images1\\image_6.jpg C:\\Users\\asus\\Downloads\\resized_train_data\\masks1\\mask_6.png\n"
          ]
        },
        {
          "name": "stderr",
          "output_type": "stream",
          "text": [
            " 18%|█▊        | 83/459 [00:06<00:29, 12.58it/s]"
          ]
        },
        {
          "name": "stdout",
          "output_type": "stream",
          "text": [
            "C:\\Users\\asus\\Downloads\\resized_train_data\\new_masks\\a\\images1\\image_6.png\n",
            "a\\images1\\image_12 hii\n",
            "C:\\Users\\asus\\Downloads\\resized_train_data\\images1\\image_12.jpg C:\\Users\\asus\\Downloads\\resized_train_data\\masks1\\mask_12.png\n",
            "C:\\Users\\asus\\Downloads\\resized_train_data\\new_masks\\a\\images1\\image_12.png\n",
            "a\\images1\\image_726 hii\n",
            "C:\\Users\\asus\\Downloads\\resized_train_data\\images1\\image_726.jpg C:\\Users\\asus\\Downloads\\resized_train_data\\masks1\\mask_726.png\n",
            "C:\\Users\\asus\\Downloads\\resized_train_data\\new_masks\\a\\images1\\image_726.png\n",
            "a\\images1\\image_435 hii\n",
            "C:\\Users\\asus\\Downloads\\resized_train_data\\images1\\image_435.jpg C:\\Users\\asus\\Downloads\\resized_train_data\\masks1\\mask_435.png\n"
          ]
        },
        {
          "name": "stderr",
          "output_type": "stream",
          "text": [
            " 19%|█▉        | 87/459 [00:07<00:29, 12.48it/s]"
          ]
        },
        {
          "name": "stdout",
          "output_type": "stream",
          "text": [
            "C:\\Users\\asus\\Downloads\\resized_train_data\\new_masks\\a\\images1\\image_435.png\n",
            "a\\images1\\image_743 hii\n",
            "C:\\Users\\asus\\Downloads\\resized_train_data\\images1\\image_743.jpg C:\\Users\\asus\\Downloads\\resized_train_data\\masks1\\mask_743.png\n",
            "C:\\Users\\asus\\Downloads\\resized_train_data\\new_masks\\a\\images1\\image_743.png\n",
            "a\\images1\\image_308 hii\n",
            "C:\\Users\\asus\\Downloads\\resized_train_data\\images1\\image_308.jpg C:\\Users\\asus\\Downloads\\resized_train_data\\masks1\\mask_308.png\n",
            "C:\\Users\\asus\\Downloads\\resized_train_data\\new_masks\\a\\images1\\image_308.png\n",
            "a\\images1\\image_141 hii\n",
            "C:\\Users\\asus\\Downloads\\resized_train_data\\images1\\image_141.jpg C:\\Users\\asus\\Downloads\\resized_train_data\\masks1\\mask_141.png\n"
          ]
        },
        {
          "name": "stderr",
          "output_type": "stream",
          "text": [
            " 19%|█▉        | 89/459 [00:07<00:30, 12.28it/s]"
          ]
        },
        {
          "name": "stdout",
          "output_type": "stream",
          "text": [
            "C:\\Users\\asus\\Downloads\\resized_train_data\\new_masks\\a\\images1\\image_141.png\n",
            "a\\images1\\image_79 hii\n",
            "C:\\Users\\asus\\Downloads\\resized_train_data\\images1\\image_79.jpg C:\\Users\\asus\\Downloads\\resized_train_data\\masks1\\mask_79.png\n",
            "C:\\Users\\asus\\Downloads\\resized_train_data\\new_masks\\a\\images1\\image_79.png\n",
            "a\\images1\\image_473 hii\n",
            "C:\\Users\\asus\\Downloads\\resized_train_data\\images1\\image_473.jpg C:\\Users\\asus\\Downloads\\resized_train_data\\masks1\\mask_473.png\n",
            "C:\\Users\\asus\\Downloads\\resized_train_data\\new_masks\\a\\images1\\image_473.png\n",
            "a\\images1\\image_535 hii\n",
            "C:\\Users\\asus\\Downloads\\resized_train_data\\images1\\image_535.jpg C:\\Users\\asus\\Downloads\\resized_train_data\\masks1\\mask_535.png\n"
          ]
        },
        {
          "name": "stderr",
          "output_type": "stream",
          "text": [
            " 20%|██        | 93/459 [00:07<00:30, 12.18it/s]"
          ]
        },
        {
          "name": "stdout",
          "output_type": "stream",
          "text": [
            "C:\\Users\\asus\\Downloads\\resized_train_data\\new_masks\\a\\images1\\image_535.png\n",
            "a\\images1\\image_662 hii\n",
            "C:\\Users\\asus\\Downloads\\resized_train_data\\images1\\image_662.jpg C:\\Users\\asus\\Downloads\\resized_train_data\\masks1\\mask_662.png\n",
            "C:\\Users\\asus\\Downloads\\resized_train_data\\new_masks\\a\\images1\\image_662.png\n",
            "a\\images1\\image_195 hii\n",
            "C:\\Users\\asus\\Downloads\\resized_train_data\\images1\\image_195.jpg C:\\Users\\asus\\Downloads\\resized_train_data\\masks1\\mask_195.png\n",
            "C:\\Users\\asus\\Downloads\\resized_train_data\\new_masks\\a\\images1\\image_195.png\n",
            "a\\images1\\image_443 hii\n",
            "C:\\Users\\asus\\Downloads\\resized_train_data\\images1\\image_443.jpg C:\\Users\\asus\\Downloads\\resized_train_data\\masks1\\mask_443.png\n"
          ]
        },
        {
          "name": "stderr",
          "output_type": "stream",
          "text": [
            " 21%|██        | 95/459 [00:07<00:31, 11.70it/s]"
          ]
        },
        {
          "name": "stdout",
          "output_type": "stream",
          "text": [
            "C:\\Users\\asus\\Downloads\\resized_train_data\\new_masks\\a\\images1\\image_443.png\n",
            "a\\images1\\image_188 hii\n",
            "C:\\Users\\asus\\Downloads\\resized_train_data\\images1\\image_188.jpg C:\\Users\\asus\\Downloads\\resized_train_data\\masks1\\mask_188.png\n",
            "C:\\Users\\asus\\Downloads\\resized_train_data\\new_masks\\a\\images1\\image_188.png\n",
            "a\\images1\\image_416 hii\n",
            "C:\\Users\\asus\\Downloads\\resized_train_data\\images1\\image_416.jpg C:\\Users\\asus\\Downloads\\resized_train_data\\masks1\\mask_416.png\n",
            "C:\\Users\\asus\\Downloads\\resized_train_data\\new_masks\\a\\images1\\image_416.png\n",
            "a\\images1\\image_94 hii\n",
            "C:\\Users\\asus\\Downloads\\resized_train_data\\images1\\image_94.jpg C:\\Users\\asus\\Downloads\\resized_train_data\\masks1\\mask_94.png\n"
          ]
        },
        {
          "name": "stderr",
          "output_type": "stream",
          "text": [
            " 22%|██▏       | 99/459 [00:08<00:30, 11.98it/s]"
          ]
        },
        {
          "name": "stdout",
          "output_type": "stream",
          "text": [
            "C:\\Users\\asus\\Downloads\\resized_train_data\\new_masks\\a\\images1\\image_94.png\n",
            "a\\images1\\image_296 hii\n",
            "C:\\Users\\asus\\Downloads\\resized_train_data\\images1\\image_296.jpg C:\\Users\\asus\\Downloads\\resized_train_data\\masks1\\mask_296.png\n",
            "C:\\Users\\asus\\Downloads\\resized_train_data\\new_masks\\a\\images1\\image_296.png\n",
            "a\\images1\\image_754 hii\n",
            "C:\\Users\\asus\\Downloads\\resized_train_data\\images1\\image_754.jpg C:\\Users\\asus\\Downloads\\resized_train_data\\masks1\\mask_754.png\n",
            "C:\\Users\\asus\\Downloads\\resized_train_data\\new_masks\\a\\images1\\image_754.png\n",
            "a\\images1\\image_685 hii\n",
            "C:\\Users\\asus\\Downloads\\resized_train_data\\images1\\image_685.jpg C:\\Users\\asus\\Downloads\\resized_train_data\\masks1\\mask_685.png\n"
          ]
        },
        {
          "name": "stderr",
          "output_type": "stream",
          "text": [
            " 22%|██▏       | 101/459 [00:08<00:29, 12.04it/s]"
          ]
        },
        {
          "name": "stdout",
          "output_type": "stream",
          "text": [
            "C:\\Users\\asus\\Downloads\\resized_train_data\\new_masks\\a\\images1\\image_685.png\n",
            "a\\images1\\image_299 hii\n",
            "C:\\Users\\asus\\Downloads\\resized_train_data\\images1\\image_299.jpg C:\\Users\\asus\\Downloads\\resized_train_data\\masks1\\mask_299.png\n",
            "C:\\Users\\asus\\Downloads\\resized_train_data\\new_masks\\a\\images1\\image_299.png\n",
            "a\\images1\\image_180 hii\n",
            "C:\\Users\\asus\\Downloads\\resized_train_data\\images1\\image_180.jpg C:\\Users\\asus\\Downloads\\resized_train_data\\masks1\\mask_180.png\n",
            "C:\\Users\\asus\\Downloads\\resized_train_data\\new_masks\\a\\images1\\image_180.png\n",
            "a\\images1\\image_682 hii\n"
          ]
        },
        {
          "name": "stderr",
          "output_type": "stream",
          "text": [
            " 22%|██▏       | 103/459 [00:08<00:31, 11.39it/s]"
          ]
        },
        {
          "name": "stdout",
          "output_type": "stream",
          "text": [
            "C:\\Users\\asus\\Downloads\\resized_train_data\\images1\\image_682.jpg C:\\Users\\asus\\Downloads\\resized_train_data\\masks1\\mask_682.png\n",
            "C:\\Users\\asus\\Downloads\\resized_train_data\\new_masks\\a\\images1\\image_682.png\n",
            "a\\images1\\image_214 hii\n",
            "C:\\Users\\asus\\Downloads\\resized_train_data\\images1\\image_214.jpg C:\\Users\\asus\\Downloads\\resized_train_data\\masks1\\mask_214.png\n",
            "C:\\Users\\asus\\Downloads\\resized_train_data\\new_masks\\a\\images1\\image_214.png\n",
            "a\\images1\\image_322 hii\n",
            "C:\\Users\\asus\\Downloads\\resized_train_data\\images1\\image_322.jpg C:\\Users\\asus\\Downloads\\resized_train_data\\masks1\\mask_322.png\n"
          ]
        },
        {
          "name": "stderr",
          "output_type": "stream",
          "text": [
            " 23%|██▎       | 107/459 [00:08<00:29, 11.83it/s]"
          ]
        },
        {
          "name": "stdout",
          "output_type": "stream",
          "text": [
            "C:\\Users\\asus\\Downloads\\resized_train_data\\new_masks\\a\\images1\\image_322.png\n",
            "a\\images1\\image_108 hii\n",
            "C:\\Users\\asus\\Downloads\\resized_train_data\\images1\\image_108.jpg C:\\Users\\asus\\Downloads\\resized_train_data\\masks1\\mask_108.png\n",
            "C:\\Users\\asus\\Downloads\\resized_train_data\\new_masks\\a\\images1\\image_108.png\n",
            "a\\images1\\image_609 hii\n",
            "C:\\Users\\asus\\Downloads\\resized_train_data\\images1\\image_609.jpg C:\\Users\\asus\\Downloads\\resized_train_data\\masks1\\mask_609.png\n",
            "C:\\Users\\asus\\Downloads\\resized_train_data\\new_masks\\a\\images1\\image_609.png\n",
            "a\\images1\\image_49 hii\n",
            "C:\\Users\\asus\\Downloads\\resized_train_data\\images1\\image_49.jpg C:\\Users\\asus\\Downloads\\resized_train_data\\masks1\\mask_49.png\n"
          ]
        },
        {
          "name": "stderr",
          "output_type": "stream",
          "text": [
            " 24%|██▎       | 109/459 [00:09<00:28, 12.11it/s]"
          ]
        },
        {
          "name": "stdout",
          "output_type": "stream",
          "text": [
            "C:\\Users\\asus\\Downloads\\resized_train_data\\new_masks\\a\\images1\\image_49.png\n",
            "a\\images1\\image_166 hii\n",
            "C:\\Users\\asus\\Downloads\\resized_train_data\\images1\\image_166.jpg C:\\Users\\asus\\Downloads\\resized_train_data\\masks1\\mask_166.png\n",
            "C:\\Users\\asus\\Downloads\\resized_train_data\\new_masks\\a\\images1\\image_166.png\n",
            "a\\images1\\image_664 hii\n",
            "C:\\Users\\asus\\Downloads\\resized_train_data\\images1\\image_664.jpg C:\\Users\\asus\\Downloads\\resized_train_data\\masks1\\mask_664.png\n",
            "C:\\Users\\asus\\Downloads\\resized_train_data\\new_masks\\a\\images1\\image_664.png\n",
            "a\\images1\\image_185 hii\n",
            "C:\\Users\\asus\\Downloads\\resized_train_data\\images1\\image_185.jpg C:\\Users\\asus\\Downloads\\resized_train_data\\masks1\\mask_185.png\n"
          ]
        },
        {
          "name": "stderr",
          "output_type": "stream",
          "text": [
            " 25%|██▍       | 113/459 [00:09<00:27, 12.52it/s]"
          ]
        },
        {
          "name": "stdout",
          "output_type": "stream",
          "text": [
            "C:\\Users\\asus\\Downloads\\resized_train_data\\new_masks\\a\\images1\\image_185.png\n",
            "a\\images1\\image_668 hii\n",
            "C:\\Users\\asus\\Downloads\\resized_train_data\\images1\\image_668.jpg C:\\Users\\asus\\Downloads\\resized_train_data\\masks1\\mask_668.png\n",
            "C:\\Users\\asus\\Downloads\\resized_train_data\\new_masks\\a\\images1\\image_668.png\n",
            "a\\images1\\image_725 hii\n",
            "C:\\Users\\asus\\Downloads\\resized_train_data\\images1\\image_725.jpg C:\\Users\\asus\\Downloads\\resized_train_data\\masks1\\mask_725.png\n",
            "C:\\Users\\asus\\Downloads\\resized_train_data\\new_masks\\a\\images1\\image_725.png\n",
            "a\\images1\\image_654 hii\n",
            "C:\\Users\\asus\\Downloads\\resized_train_data\\images1\\image_654.jpg C:\\Users\\asus\\Downloads\\resized_train_data\\masks1\\mask_654.png\n"
          ]
        },
        {
          "name": "stderr",
          "output_type": "stream",
          "text": [
            " 25%|██▌       | 115/459 [00:09<00:27, 12.42it/s]"
          ]
        },
        {
          "name": "stdout",
          "output_type": "stream",
          "text": [
            "C:\\Users\\asus\\Downloads\\resized_train_data\\new_masks\\a\\images1\\image_654.png\n",
            "a\\images1\\image_66 hii\n",
            "C:\\Users\\asus\\Downloads\\resized_train_data\\images1\\image_66.jpg C:\\Users\\asus\\Downloads\\resized_train_data\\masks1\\mask_66.png\n",
            "C:\\Users\\asus\\Downloads\\resized_train_data\\new_masks\\a\\images1\\image_66.png\n",
            "a\\images1\\image_86 hii\n",
            "C:\\Users\\asus\\Downloads\\resized_train_data\\images1\\image_86.jpg C:\\Users\\asus\\Downloads\\resized_train_data\\masks1\\mask_86.png\n",
            "C:\\Users\\asus\\Downloads\\resized_train_data\\new_masks\\a\\images1\\image_86.png\n",
            "a\\images1\\image_242 hii\n",
            "C:\\Users\\asus\\Downloads\\resized_train_data\\images1\\image_242.jpg C:\\Users\\asus\\Downloads\\resized_train_data\\masks1\\mask_242.png\n"
          ]
        },
        {
          "name": "stderr",
          "output_type": "stream",
          "text": [
            " 26%|██▌       | 119/459 [00:09<00:27, 12.55it/s]"
          ]
        },
        {
          "name": "stdout",
          "output_type": "stream",
          "text": [
            "C:\\Users\\asus\\Downloads\\resized_train_data\\new_masks\\a\\images1\\image_242.png\n",
            "a\\images1\\image_413 hii\n",
            "C:\\Users\\asus\\Downloads\\resized_train_data\\images1\\image_413.jpg C:\\Users\\asus\\Downloads\\resized_train_data\\masks1\\mask_413.png\n",
            "C:\\Users\\asus\\Downloads\\resized_train_data\\new_masks\\a\\images1\\image_413.png\n",
            "a\\images1\\image_718 hii\n",
            "C:\\Users\\asus\\Downloads\\resized_train_data\\images1\\image_718.jpg C:\\Users\\asus\\Downloads\\resized_train_data\\masks1\\mask_718.png\n",
            "C:\\Users\\asus\\Downloads\\resized_train_data\\new_masks\\a\\images1\\image_718.png\n",
            "a\\images1\\image_46 hii\n",
            "C:\\Users\\asus\\Downloads\\resized_train_data\\images1\\image_46.jpg C:\\Users\\asus\\Downloads\\resized_train_data\\masks1\\mask_46.png\n"
          ]
        },
        {
          "name": "stderr",
          "output_type": "stream",
          "text": [
            " 26%|██▋       | 121/459 [00:10<00:27, 12.48it/s]"
          ]
        },
        {
          "name": "stdout",
          "output_type": "stream",
          "text": [
            "C:\\Users\\asus\\Downloads\\resized_train_data\\new_masks\\a\\images1\\image_46.png\n",
            "a\\images1\\image_211 hii\n",
            "C:\\Users\\asus\\Downloads\\resized_train_data\\images1\\image_211.jpg C:\\Users\\asus\\Downloads\\resized_train_data\\masks1\\mask_211.png\n",
            "C:\\Users\\asus\\Downloads\\resized_train_data\\new_masks\\a\\images1\\image_211.png\n",
            "a\\images1\\image_53 hii\n",
            "C:\\Users\\asus\\Downloads\\resized_train_data\\images1\\image_53.jpg C:\\Users\\asus\\Downloads\\resized_train_data\\masks1\\mask_53.png\n",
            "C:\\Users\\asus\\Downloads\\resized_train_data\\new_masks\\a\\images1\\image_53.png\n",
            "a\\images1\\image_310 hii\n",
            "C:\\Users\\asus\\Downloads\\resized_train_data\\images1\\image_310.jpg C:\\Users\\asus\\Downloads\\resized_train_data\\masks1\\mask_310.png\n"
          ]
        },
        {
          "name": "stderr",
          "output_type": "stream",
          "text": [
            " 27%|██▋       | 125/459 [00:10<00:27, 12.25it/s]"
          ]
        },
        {
          "name": "stdout",
          "output_type": "stream",
          "text": [
            "C:\\Users\\asus\\Downloads\\resized_train_data\\new_masks\\a\\images1\\image_310.png\n",
            "a\\images1\\image_468 hii\n",
            "C:\\Users\\asus\\Downloads\\resized_train_data\\images1\\image_468.jpg C:\\Users\\asus\\Downloads\\resized_train_data\\masks1\\mask_468.png\n",
            "C:\\Users\\asus\\Downloads\\resized_train_data\\new_masks\\a\\images1\\image_468.png\n",
            "a\\images1\\image_492 hii\n",
            "C:\\Users\\asus\\Downloads\\resized_train_data\\images1\\image_492.jpg C:\\Users\\asus\\Downloads\\resized_train_data\\masks1\\mask_492.png\n",
            "C:\\Users\\asus\\Downloads\\resized_train_data\\new_masks\\a\\images1\\image_492.png\n",
            "a\\images1\\image_77 hii\n",
            "C:\\Users\\asus\\Downloads\\resized_train_data\\images1\\image_77.jpg C:\\Users\\asus\\Downloads\\resized_train_data\\masks1\\mask_77.png\n"
          ]
        },
        {
          "name": "stderr",
          "output_type": "stream",
          "text": [
            " 28%|██▊       | 127/459 [00:10<00:27, 12.24it/s]"
          ]
        },
        {
          "name": "stdout",
          "output_type": "stream",
          "text": [
            "C:\\Users\\asus\\Downloads\\resized_train_data\\new_masks\\a\\images1\\image_77.png\n",
            "a\\images1\\image_18 hii\n",
            "C:\\Users\\asus\\Downloads\\resized_train_data\\images1\\image_18.jpg C:\\Users\\asus\\Downloads\\resized_train_data\\masks1\\mask_18.png\n",
            "C:\\Users\\asus\\Downloads\\resized_train_data\\new_masks\\a\\images1\\image_18.png\n",
            "a\\images1\\image_467 hii\n",
            "C:\\Users\\asus\\Downloads\\resized_train_data\\images1\\image_467.jpg C:\\Users\\asus\\Downloads\\resized_train_data\\masks1\\mask_467.png\n",
            "C:\\Users\\asus\\Downloads\\resized_train_data\\new_masks\\a\\images1\\image_467.png\n",
            "a\\images1\\image_707 hii\n",
            "C:\\Users\\asus\\Downloads\\resized_train_data\\images1\\image_707.jpg C:\\Users\\asus\\Downloads\\resized_train_data\\masks1\\mask_707.png\n"
          ]
        },
        {
          "name": "stderr",
          "output_type": "stream",
          "text": [
            " 29%|██▊       | 131/459 [00:10<00:27, 11.86it/s]"
          ]
        },
        {
          "name": "stdout",
          "output_type": "stream",
          "text": [
            "C:\\Users\\asus\\Downloads\\resized_train_data\\new_masks\\a\\images1\\image_707.png\n",
            "a\\images1\\image_230 hii\n",
            "C:\\Users\\asus\\Downloads\\resized_train_data\\images1\\image_230.jpg C:\\Users\\asus\\Downloads\\resized_train_data\\masks1\\mask_230.png\n",
            "C:\\Users\\asus\\Downloads\\resized_train_data\\new_masks\\a\\images1\\image_230.png\n",
            "a\\images1\\image_598 hii\n",
            "C:\\Users\\asus\\Downloads\\resized_train_data\\images1\\image_598.jpg C:\\Users\\asus\\Downloads\\resized_train_data\\masks1\\mask_598.png\n",
            "C:\\Users\\asus\\Downloads\\resized_train_data\\new_masks\\a\\images1\\image_598.png\n",
            "a\\images1\\image_536 hii\n",
            "C:\\Users\\asus\\Downloads\\resized_train_data\\images1\\image_536.jpg C:\\Users\\asus\\Downloads\\resized_train_data\\masks1\\mask_536.png\n"
          ]
        },
        {
          "name": "stderr",
          "output_type": "stream",
          "text": [
            " 29%|██▉       | 133/459 [00:11<00:26, 12.10it/s]"
          ]
        },
        {
          "name": "stdout",
          "output_type": "stream",
          "text": [
            "C:\\Users\\asus\\Downloads\\resized_train_data\\new_masks\\a\\images1\\image_536.png\n",
            "a\\images1\\image_196 hii\n",
            "C:\\Users\\asus\\Downloads\\resized_train_data\\images1\\image_196.jpg C:\\Users\\asus\\Downloads\\resized_train_data\\masks1\\mask_196.png\n",
            "C:\\Users\\asus\\Downloads\\resized_train_data\\new_masks\\a\\images1\\image_196.png\n",
            "a\\images1\\image_407 hii\n",
            "C:\\Users\\asus\\Downloads\\resized_train_data\\images1\\image_407.jpg C:\\Users\\asus\\Downloads\\resized_train_data\\masks1\\mask_407.png\n",
            "C:\\Users\\asus\\Downloads\\resized_train_data\\new_masks\\a\\images1\\image_407.png\n",
            "a\\images1\\image_122 hii\n",
            "C:\\Users\\asus\\Downloads\\resized_train_data\\images1\\image_122.jpg C:\\Users\\asus\\Downloads\\resized_train_data\\masks1\\mask_122.png\n"
          ]
        },
        {
          "name": "stderr",
          "output_type": "stream",
          "text": [
            " 30%|██▉       | 137/459 [00:11<00:25, 12.45it/s]"
          ]
        },
        {
          "name": "stdout",
          "output_type": "stream",
          "text": [
            "C:\\Users\\asus\\Downloads\\resized_train_data\\new_masks\\a\\images1\\image_122.png\n",
            "a\\images1\\image_36 hii\n",
            "C:\\Users\\asus\\Downloads\\resized_train_data\\images1\\image_36.jpg C:\\Users\\asus\\Downloads\\resized_train_data\\masks1\\mask_36.png\n",
            "C:\\Users\\asus\\Downloads\\resized_train_data\\new_masks\\a\\images1\\image_36.png\n",
            "a\\images1\\image_641 hii\n",
            "C:\\Users\\asus\\Downloads\\resized_train_data\\images1\\image_641.jpg C:\\Users\\asus\\Downloads\\resized_train_data\\masks1\\mask_641.png\n",
            "C:\\Users\\asus\\Downloads\\resized_train_data\\new_masks\\a\\images1\\image_641.png\n",
            "a\\images1\\image_352 hii\n",
            "C:\\Users\\asus\\Downloads\\resized_train_data\\images1\\image_352.jpg C:\\Users\\asus\\Downloads\\resized_train_data\\masks1\\mask_352.png\n"
          ]
        },
        {
          "name": "stderr",
          "output_type": "stream",
          "text": [
            " 30%|███       | 139/459 [00:11<00:25, 12.46it/s]"
          ]
        },
        {
          "name": "stdout",
          "output_type": "stream",
          "text": [
            "C:\\Users\\asus\\Downloads\\resized_train_data\\new_masks\\a\\images1\\image_352.png\n",
            "a\\images1\\image_510 hii\n",
            "C:\\Users\\asus\\Downloads\\resized_train_data\\images1\\image_510.jpg C:\\Users\\asus\\Downloads\\resized_train_data\\masks1\\mask_510.png\n",
            "C:\\Users\\asus\\Downloads\\resized_train_data\\new_masks\\a\\images1\\image_510.png\n",
            "a\\images1\\image_384 hii\n",
            "C:\\Users\\asus\\Downloads\\resized_train_data\\images1\\image_384.jpg C:\\Users\\asus\\Downloads\\resized_train_data\\masks1\\mask_384.png\n",
            "C:\\Users\\asus\\Downloads\\resized_train_data\\new_masks\\a\\images1\\image_384.png\n",
            "a\\images1\\image_252 hii\n",
            "C:\\Users\\asus\\Downloads\\resized_train_data\\images1\\image_252.jpg C:\\Users\\asus\\Downloads\\resized_train_data\\masks1\\mask_252.png\n"
          ]
        },
        {
          "name": "stderr",
          "output_type": "stream",
          "text": [
            " 31%|███       | 143/459 [00:11<00:25, 12.17it/s]"
          ]
        },
        {
          "name": "stdout",
          "output_type": "stream",
          "text": [
            "C:\\Users\\asus\\Downloads\\resized_train_data\\new_masks\\a\\images1\\image_252.png\n",
            "a\\images1\\image_495 hii\n",
            "C:\\Users\\asus\\Downloads\\resized_train_data\\images1\\image_495.jpg C:\\Users\\asus\\Downloads\\resized_train_data\\masks1\\mask_495.png\n",
            "C:\\Users\\asus\\Downloads\\resized_train_data\\new_masks\\a\\images1\\image_495.png\n",
            "a\\images1\\image_425 hii\n",
            "C:\\Users\\asus\\Downloads\\resized_train_data\\images1\\image_425.jpg C:\\Users\\asus\\Downloads\\resized_train_data\\masks1\\mask_425.png\n",
            "C:\\Users\\asus\\Downloads\\resized_train_data\\new_masks\\a\\images1\\image_425.png\n",
            "a\\images1\\image_339 hii\n",
            "C:\\Users\\asus\\Downloads\\resized_train_data\\images1\\image_339.jpg C:\\Users\\asus\\Downloads\\resized_train_data\\masks1\\mask_339.png\n"
          ]
        },
        {
          "name": "stderr",
          "output_type": "stream",
          "text": [
            " 32%|███▏      | 145/459 [00:12<00:25, 12.26it/s]"
          ]
        },
        {
          "name": "stdout",
          "output_type": "stream",
          "text": [
            "C:\\Users\\asus\\Downloads\\resized_train_data\\new_masks\\a\\images1\\image_339.png\n",
            "a\\images1\\image_417 hii\n",
            "C:\\Users\\asus\\Downloads\\resized_train_data\\images1\\image_417.jpg C:\\Users\\asus\\Downloads\\resized_train_data\\masks1\\mask_417.png\n",
            "C:\\Users\\asus\\Downloads\\resized_train_data\\new_masks\\a\\images1\\image_417.png\n",
            "a\\images1\\image_149 hii\n",
            "C:\\Users\\asus\\Downloads\\resized_train_data\\images1\\image_149.jpg C:\\Users\\asus\\Downloads\\resized_train_data\\masks1\\mask_149.png\n",
            "C:\\Users\\asus\\Downloads\\resized_train_data\\new_masks\\a\\images1\\image_149.png\n",
            "a\\images1\\image_26 hii\n",
            "C:\\Users\\asus\\Downloads\\resized_train_data\\images1\\image_26.jpg C:\\Users\\asus\\Downloads\\resized_train_data\\masks1\\mask_26.png\n"
          ]
        },
        {
          "name": "stderr",
          "output_type": "stream",
          "text": [
            " 32%|███▏      | 149/459 [00:12<00:25, 12.30it/s]"
          ]
        },
        {
          "name": "stdout",
          "output_type": "stream",
          "text": [
            "C:\\Users\\asus\\Downloads\\resized_train_data\\new_masks\\a\\images1\\image_26.png\n",
            "a\\images1\\image_369 hii\n",
            "C:\\Users\\asus\\Downloads\\resized_train_data\\images1\\image_369.jpg C:\\Users\\asus\\Downloads\\resized_train_data\\masks1\\mask_369.png\n",
            "C:\\Users\\asus\\Downloads\\resized_train_data\\new_masks\\a\\images1\\image_369.png\n",
            "a\\images1\\image_57 hii\n",
            "C:\\Users\\asus\\Downloads\\resized_train_data\\images1\\image_57.jpg C:\\Users\\asus\\Downloads\\resized_train_data\\masks1\\mask_57.png\n",
            "C:\\Users\\asus\\Downloads\\resized_train_data\\new_masks\\a\\images1\\image_57.png\n",
            "a\\images1\\image_697 hii\n",
            "C:\\Users\\asus\\Downloads\\resized_train_data\\images1\\image_697.jpg C:\\Users\\asus\\Downloads\\resized_train_data\\masks1\\mask_697.png\n"
          ]
        },
        {
          "name": "stderr",
          "output_type": "stream",
          "text": [
            " 33%|███▎      | 151/459 [00:12<00:25, 12.23it/s]"
          ]
        },
        {
          "name": "stdout",
          "output_type": "stream",
          "text": [
            "C:\\Users\\asus\\Downloads\\resized_train_data\\new_masks\\a\\images1\\image_697.png\n",
            "a\\images1\\image_347 hii\n",
            "C:\\Users\\asus\\Downloads\\resized_train_data\\images1\\image_347.jpg C:\\Users\\asus\\Downloads\\resized_train_data\\masks1\\mask_347.png\n",
            "C:\\Users\\asus\\Downloads\\resized_train_data\\new_masks\\a\\images1\\image_347.png\n",
            "a\\images1\\image_348 hii\n",
            "C:\\Users\\asus\\Downloads\\resized_train_data\\images1\\image_348.jpg C:\\Users\\asus\\Downloads\\resized_train_data\\masks1\\mask_348.png\n",
            "C:\\Users\\asus\\Downloads\\resized_train_data\\new_masks\\a\\images1\\image_348.png\n",
            "a\\images1\\image_522 hii\n",
            "C:\\Users\\asus\\Downloads\\resized_train_data\\images1\\image_522.jpg C:\\Users\\asus\\Downloads\\resized_train_data\\masks1\\mask_522.png\n"
          ]
        },
        {
          "name": "stderr",
          "output_type": "stream",
          "text": [
            " 34%|███▍      | 155/459 [00:12<00:24, 12.28it/s]"
          ]
        },
        {
          "name": "stdout",
          "output_type": "stream",
          "text": [
            "C:\\Users\\asus\\Downloads\\resized_train_data\\new_masks\\a\\images1\\image_522.png\n",
            "a\\images1\\image_551 hii\n",
            "C:\\Users\\asus\\Downloads\\resized_train_data\\images1\\image_551.jpg C:\\Users\\asus\\Downloads\\resized_train_data\\masks1\\mask_551.png\n",
            "C:\\Users\\asus\\Downloads\\resized_train_data\\new_masks\\a\\images1\\image_551.png\n",
            "a\\images1\\image_637 hii\n",
            "C:\\Users\\asus\\Downloads\\resized_train_data\\images1\\image_637.jpg C:\\Users\\asus\\Downloads\\resized_train_data\\masks1\\mask_637.png\n",
            "C:\\Users\\asus\\Downloads\\resized_train_data\\new_masks\\a\\images1\\image_637.png\n",
            "a\\images1\\image_213 hii\n",
            "C:\\Users\\asus\\Downloads\\resized_train_data\\images1\\image_213.jpg C:\\Users\\asus\\Downloads\\resized_train_data\\masks1\\mask_213.png\n"
          ]
        },
        {
          "name": "stderr",
          "output_type": "stream",
          "text": [
            " 34%|███▍      | 157/459 [00:13<00:25, 11.84it/s]"
          ]
        },
        {
          "name": "stdout",
          "output_type": "stream",
          "text": [
            "C:\\Users\\asus\\Downloads\\resized_train_data\\new_masks\\a\\images1\\image_213.png\n",
            "a\\images1\\image_121 hii\n",
            "C:\\Users\\asus\\Downloads\\resized_train_data\\images1\\image_121.jpg C:\\Users\\asus\\Downloads\\resized_train_data\\masks1\\mask_121.png\n",
            "C:\\Users\\asus\\Downloads\\resized_train_data\\new_masks\\a\\images1\\image_121.png\n",
            "a\\images1\\image_540 hii\n",
            "C:\\Users\\asus\\Downloads\\resized_train_data\\images1\\image_540.jpg C:\\Users\\asus\\Downloads\\resized_train_data\\masks1\\mask_540.png\n",
            "C:\\Users\\asus\\Downloads\\resized_train_data\\new_masks\\a\\images1\\image_540.png\n",
            "a\\images1\\image_134 hii\n",
            "C:\\Users\\asus\\Downloads\\resized_train_data\\images1\\image_134.jpg C:\\Users\\asus\\Downloads\\resized_train_data\\masks1\\mask_134.png\n"
          ]
        },
        {
          "name": "stderr",
          "output_type": "stream",
          "text": [
            " 35%|███▌      | 161/459 [00:13<00:24, 12.07it/s]"
          ]
        },
        {
          "name": "stdout",
          "output_type": "stream",
          "text": [
            "C:\\Users\\asus\\Downloads\\resized_train_data\\new_masks\\a\\images1\\image_134.png\n",
            "a\\images1\\image_652 hii\n",
            "C:\\Users\\asus\\Downloads\\resized_train_data\\images1\\image_652.jpg C:\\Users\\asus\\Downloads\\resized_train_data\\masks1\\mask_652.png\n",
            "C:\\Users\\asus\\Downloads\\resized_train_data\\new_masks\\a\\images1\\image_652.png\n",
            "a\\images1\\image_731 hii\n",
            "C:\\Users\\asus\\Downloads\\resized_train_data\\images1\\image_731.jpg C:\\Users\\asus\\Downloads\\resized_train_data\\masks1\\mask_731.png\n",
            "C:\\Users\\asus\\Downloads\\resized_train_data\\new_masks\\a\\images1\\image_731.png\n",
            "a\\images1\\image_354 hii\n",
            "C:\\Users\\asus\\Downloads\\resized_train_data\\images1\\image_354.jpg C:\\Users\\asus\\Downloads\\resized_train_data\\masks1\\mask_354.png\n"
          ]
        },
        {
          "name": "stderr",
          "output_type": "stream",
          "text": [
            " 36%|███▌      | 163/459 [00:13<00:24, 12.08it/s]"
          ]
        },
        {
          "name": "stdout",
          "output_type": "stream",
          "text": [
            "C:\\Users\\asus\\Downloads\\resized_train_data\\new_masks\\a\\images1\\image_354.png\n",
            "a\\images1\\image_300 hii\n",
            "C:\\Users\\asus\\Downloads\\resized_train_data\\images1\\image_300.jpg C:\\Users\\asus\\Downloads\\resized_train_data\\masks1\\mask_300.png\n",
            "C:\\Users\\asus\\Downloads\\resized_train_data\\new_masks\\a\\images1\\image_300.png\n",
            "a\\images1\\image_281 hii\n",
            "C:\\Users\\asus\\Downloads\\resized_train_data\\images1\\image_281.jpg C:\\Users\\asus\\Downloads\\resized_train_data\\masks1\\mask_281.png\n",
            "C:\\Users\\asus\\Downloads\\resized_train_data\\new_masks\\a\\images1\\image_281.png\n",
            "a\\images1\\image_706 hii\n",
            "C:\\Users\\asus\\Downloads\\resized_train_data\\images1\\image_706.jpg C:\\Users\\asus\\Downloads\\resized_train_data\\masks1\\mask_706.png\n"
          ]
        },
        {
          "name": "stderr",
          "output_type": "stream",
          "text": [
            " 36%|███▋      | 167/459 [00:13<00:23, 12.20it/s]"
          ]
        },
        {
          "name": "stdout",
          "output_type": "stream",
          "text": [
            "C:\\Users\\asus\\Downloads\\resized_train_data\\new_masks\\a\\images1\\image_706.png\n",
            "a\\images1\\image_349 hii\n",
            "C:\\Users\\asus\\Downloads\\resized_train_data\\images1\\image_349.jpg C:\\Users\\asus\\Downloads\\resized_train_data\\masks1\\mask_349.png\n",
            "C:\\Users\\asus\\Downloads\\resized_train_data\\new_masks\\a\\images1\\image_349.png\n",
            "a\\images1\\image_571 hii\n",
            "C:\\Users\\asus\\Downloads\\resized_train_data\\images1\\image_571.jpg C:\\Users\\asus\\Downloads\\resized_train_data\\masks1\\mask_571.png\n",
            "C:\\Users\\asus\\Downloads\\resized_train_data\\new_masks\\a\\images1\\image_571.png\n",
            "a\\images1\\image_335 hii\n",
            "C:\\Users\\asus\\Downloads\\resized_train_data\\images1\\image_335.jpg C:\\Users\\asus\\Downloads\\resized_train_data\\masks1\\mask_335.png\n"
          ]
        },
        {
          "name": "stderr",
          "output_type": "stream",
          "text": [
            " 37%|███▋      | 169/459 [00:14<00:23, 12.25it/s]"
          ]
        },
        {
          "name": "stdout",
          "output_type": "stream",
          "text": [
            "C:\\Users\\asus\\Downloads\\resized_train_data\\new_masks\\a\\images1\\image_335.png\n",
            "a\\images1\\image_431 hii\n",
            "C:\\Users\\asus\\Downloads\\resized_train_data\\images1\\image_431.jpg C:\\Users\\asus\\Downloads\\resized_train_data\\masks1\\mask_431.png\n",
            "C:\\Users\\asus\\Downloads\\resized_train_data\\new_masks\\a\\images1\\image_431.png\n",
            "a\\images1\\image_279 hii\n",
            "C:\\Users\\asus\\Downloads\\resized_train_data\\images1\\image_279.jpg C:\\Users\\asus\\Downloads\\resized_train_data\\masks1\\mask_279.png\n",
            "C:\\Users\\asus\\Downloads\\resized_train_data\\new_masks\\a\\images1\\image_279.png\n",
            "a\\images1\\image_24 hii\n",
            "C:\\Users\\asus\\Downloads\\resized_train_data\\images1\\image_24.jpg C:\\Users\\asus\\Downloads\\resized_train_data\\masks1\\mask_24.png\n"
          ]
        },
        {
          "name": "stderr",
          "output_type": "stream",
          "text": [
            " 38%|███▊      | 173/459 [00:14<00:23, 11.99it/s]"
          ]
        },
        {
          "name": "stdout",
          "output_type": "stream",
          "text": [
            "C:\\Users\\asus\\Downloads\\resized_train_data\\new_masks\\a\\images1\\image_24.png\n",
            "a\\images1\\image_287 hii\n",
            "C:\\Users\\asus\\Downloads\\resized_train_data\\images1\\image_287.jpg C:\\Users\\asus\\Downloads\\resized_train_data\\masks1\\mask_287.png\n",
            "C:\\Users\\asus\\Downloads\\resized_train_data\\new_masks\\a\\images1\\image_287.png\n",
            "a\\images1\\image_735 hii\n",
            "C:\\Users\\asus\\Downloads\\resized_train_data\\images1\\image_735.jpg C:\\Users\\asus\\Downloads\\resized_train_data\\masks1\\mask_735.png\n",
            "C:\\Users\\asus\\Downloads\\resized_train_data\\new_masks\\a\\images1\\image_735.png\n",
            "a\\images1\\image_752 hii\n",
            "C:\\Users\\asus\\Downloads\\resized_train_data\\images1\\image_752.jpg C:\\Users\\asus\\Downloads\\resized_train_data\\masks1\\mask_752.png\n"
          ]
        },
        {
          "name": "stderr",
          "output_type": "stream",
          "text": [
            " 38%|███▊      | 175/459 [00:14<00:22, 12.36it/s]"
          ]
        },
        {
          "name": "stdout",
          "output_type": "stream",
          "text": [
            "C:\\Users\\asus\\Downloads\\resized_train_data\\new_masks\\a\\images1\\image_752.png\n",
            "a\\images1\\image_78 hii\n",
            "C:\\Users\\asus\\Downloads\\resized_train_data\\images1\\image_78.jpg C:\\Users\\asus\\Downloads\\resized_train_data\\masks1\\mask_78.png\n",
            "C:\\Users\\asus\\Downloads\\resized_train_data\\new_masks\\a\\images1\\image_78.png\n",
            "a\\images1\\image_470 hii\n",
            "C:\\Users\\asus\\Downloads\\resized_train_data\\images1\\image_470.jpg C:\\Users\\asus\\Downloads\\resized_train_data\\masks1\\mask_470.png\n",
            "C:\\Users\\asus\\Downloads\\resized_train_data\\new_masks\\a\\images1\\image_470.png\n",
            "a\\images1\\image_436 hii\n",
            "C:\\Users\\asus\\Downloads\\resized_train_data\\images1\\image_436.jpg C:\\Users\\asus\\Downloads\\resized_train_data\\masks1\\mask_436.png\n"
          ]
        },
        {
          "name": "stderr",
          "output_type": "stream",
          "text": [
            " 39%|███▊      | 177/459 [00:14<00:23, 12.16it/s]"
          ]
        },
        {
          "name": "stdout",
          "output_type": "stream",
          "text": [
            "C:\\Users\\asus\\Downloads\\resized_train_data\\new_masks\\a\\images1\\image_436.png\n",
            "a\\images1\\image_538 hii\n",
            "C:\\Users\\asus\\Downloads\\resized_train_data\\images1\\image_538.jpg C:\\Users\\asus\\Downloads\\resized_train_data\\masks1\\mask_538.png\n",
            "C:\\Users\\asus\\Downloads\\resized_train_data\\new_masks\\a\\images1\\image_538.png\n",
            "a\\images1\\image_472 hii\n",
            "C:\\Users\\asus\\Downloads\\resized_train_data\\images1\\image_472.jpg C:\\Users\\asus\\Downloads\\resized_train_data\\masks1\\mask_472.png\n"
          ]
        },
        {
          "name": "stderr",
          "output_type": "stream",
          "text": [
            " 39%|███▉      | 181/459 [00:15<00:24, 11.21it/s]"
          ]
        },
        {
          "name": "stdout",
          "output_type": "stream",
          "text": [
            "C:\\Users\\asus\\Downloads\\resized_train_data\\new_masks\\a\\images1\\image_472.png\n",
            "a\\images1\\image_464 hii\n",
            "C:\\Users\\asus\\Downloads\\resized_train_data\\images1\\image_464.jpg C:\\Users\\asus\\Downloads\\resized_train_data\\masks1\\mask_464.png\n",
            "C:\\Users\\asus\\Downloads\\resized_train_data\\new_masks\\a\\images1\\image_464.png\n",
            "a\\images1\\image_757 hii\n",
            "C:\\Users\\asus\\Downloads\\resized_train_data\\images1\\image_757.jpg C:\\Users\\asus\\Downloads\\resized_train_data\\masks1\\mask_757.png\n",
            "C:\\Users\\asus\\Downloads\\resized_train_data\\new_masks\\a\\images1\\image_757.png\n",
            "a\\images1\\image_712 hii\n",
            "C:\\Users\\asus\\Downloads\\resized_train_data\\images1\\image_712.jpg C:\\Users\\asus\\Downloads\\resized_train_data\\masks1\\mask_712.png\n"
          ]
        },
        {
          "name": "stderr",
          "output_type": "stream",
          "text": [
            " 40%|███▉      | 183/459 [00:15<00:23, 11.78it/s]"
          ]
        },
        {
          "name": "stdout",
          "output_type": "stream",
          "text": [
            "C:\\Users\\asus\\Downloads\\resized_train_data\\new_masks\\a\\images1\\image_712.png\n",
            "a\\images1\\image_761 hii\n",
            "C:\\Users\\asus\\Downloads\\resized_train_data\\images1\\image_761.jpg C:\\Users\\asus\\Downloads\\resized_train_data\\masks1\\mask_761.png\n",
            "C:\\Users\\asus\\Downloads\\resized_train_data\\new_masks\\a\\images1\\image_761.png\n",
            "a\\images1\\image_684 hii\n",
            "C:\\Users\\asus\\Downloads\\resized_train_data\\images1\\image_684.jpg C:\\Users\\asus\\Downloads\\resized_train_data\\masks1\\mask_684.png\n",
            "C:\\Users\\asus\\Downloads\\resized_train_data\\new_masks\\a\\images1\\image_684.png\n",
            "a\\images1\\image_208 hii\n",
            "C:\\Users\\asus\\Downloads\\resized_train_data\\images1\\image_208.jpg C:\\Users\\asus\\Downloads\\resized_train_data\\masks1\\mask_208.png\n"
          ]
        },
        {
          "name": "stderr",
          "output_type": "stream",
          "text": [
            " 41%|████      | 187/459 [00:15<00:22, 12.26it/s]"
          ]
        },
        {
          "name": "stdout",
          "output_type": "stream",
          "text": [
            "C:\\Users\\asus\\Downloads\\resized_train_data\\new_masks\\a\\images1\\image_208.png\n",
            "a\\images1\\image_240 hii\n",
            "C:\\Users\\asus\\Downloads\\resized_train_data\\images1\\image_240.jpg C:\\Users\\asus\\Downloads\\resized_train_data\\masks1\\mask_240.png\n",
            "C:\\Users\\asus\\Downloads\\resized_train_data\\new_masks\\a\\images1\\image_240.png\n",
            "a\\images1\\image_371 hii\n",
            "C:\\Users\\asus\\Downloads\\resized_train_data\\images1\\image_371.jpg C:\\Users\\asus\\Downloads\\resized_train_data\\masks1\\mask_371.png\n",
            "C:\\Users\\asus\\Downloads\\resized_train_data\\new_masks\\a\\images1\\image_371.png\n",
            "a\\images1\\image_81 hii\n",
            "C:\\Users\\asus\\Downloads\\resized_train_data\\images1\\image_81.jpg C:\\Users\\asus\\Downloads\\resized_train_data\\masks1\\mask_81.png\n"
          ]
        },
        {
          "name": "stderr",
          "output_type": "stream",
          "text": [
            " 41%|████      | 189/459 [00:15<00:21, 12.45it/s]"
          ]
        },
        {
          "name": "stdout",
          "output_type": "stream",
          "text": [
            "C:\\Users\\asus\\Downloads\\resized_train_data\\new_masks\\a\\images1\\image_81.png\n",
            "a\\images1\\image_33 hii\n",
            "C:\\Users\\asus\\Downloads\\resized_train_data\\images1\\image_33.jpg C:\\Users\\asus\\Downloads\\resized_train_data\\masks1\\mask_33.png\n",
            "C:\\Users\\asus\\Downloads\\resized_train_data\\new_masks\\a\\images1\\image_33.png\n",
            "a\\images1\\image_115 hii\n",
            "C:\\Users\\asus\\Downloads\\resized_train_data\\images1\\image_115.jpg C:\\Users\\asus\\Downloads\\resized_train_data\\masks1\\mask_115.png\n",
            "C:\\Users\\asus\\Downloads\\resized_train_data\\new_masks\\a\\images1\\image_115.png\n",
            "a\\images1\\image_260 hii\n",
            "C:\\Users\\asus\\Downloads\\resized_train_data\\images1\\image_260.jpg C:\\Users\\asus\\Downloads\\resized_train_data\\masks1\\mask_260.png\n"
          ]
        },
        {
          "name": "stderr",
          "output_type": "stream",
          "text": [
            " 42%|████▏     | 193/459 [00:16<00:21, 12.35it/s]"
          ]
        },
        {
          "name": "stdout",
          "output_type": "stream",
          "text": [
            "C:\\Users\\asus\\Downloads\\resized_train_data\\new_masks\\a\\images1\\image_260.png\n",
            "a\\images1\\image_483 hii\n",
            "C:\\Users\\asus\\Downloads\\resized_train_data\\images1\\image_483.jpg C:\\Users\\asus\\Downloads\\resized_train_data\\masks1\\mask_483.png\n",
            "C:\\Users\\asus\\Downloads\\resized_train_data\\new_masks\\a\\images1\\image_483.png\n",
            "a\\images1\\image_560 hii\n",
            "C:\\Users\\asus\\Downloads\\resized_train_data\\images1\\image_560.jpg C:\\Users\\asus\\Downloads\\resized_train_data\\masks1\\mask_560.png\n",
            "C:\\Users\\asus\\Downloads\\resized_train_data\\new_masks\\a\\images1\\image_560.png\n",
            "a\\images1\\image_708 hii\n",
            "C:\\Users\\asus\\Downloads\\resized_train_data\\images1\\image_708.jpg C:\\Users\\asus\\Downloads\\resized_train_data\\masks1\\mask_708.png\n"
          ]
        },
        {
          "name": "stderr",
          "output_type": "stream",
          "text": [
            " 42%|████▏     | 195/459 [00:16<00:21, 12.41it/s]"
          ]
        },
        {
          "name": "stdout",
          "output_type": "stream",
          "text": [
            "C:\\Users\\asus\\Downloads\\resized_train_data\\new_masks\\a\\images1\\image_708.png\n",
            "a\\images1\\image_244 hii\n",
            "C:\\Users\\asus\\Downloads\\resized_train_data\\images1\\image_244.jpg C:\\Users\\asus\\Downloads\\resized_train_data\\masks1\\mask_244.png\n",
            "C:\\Users\\asus\\Downloads\\resized_train_data\\new_masks\\a\\images1\\image_244.png\n",
            "a\\images1\\image_493 hii\n",
            "C:\\Users\\asus\\Downloads\\resized_train_data\\images1\\image_493.jpg C:\\Users\\asus\\Downloads\\resized_train_data\\masks1\\mask_493.png\n",
            "C:\\Users\\asus\\Downloads\\resized_train_data\\new_masks\\a\\images1\\image_493.png\n",
            "a\\images1\\image_593 hii\n",
            "C:\\Users\\asus\\Downloads\\resized_train_data\\images1\\image_593.jpg C:\\Users\\asus\\Downloads\\resized_train_data\\masks1\\mask_593.png\n"
          ]
        },
        {
          "name": "stderr",
          "output_type": "stream",
          "text": [
            " 43%|████▎     | 199/459 [00:16<00:21, 12.24it/s]"
          ]
        },
        {
          "name": "stdout",
          "output_type": "stream",
          "text": [
            "C:\\Users\\asus\\Downloads\\resized_train_data\\new_masks\\a\\images1\\image_593.png\n",
            "a\\images1\\image_373 hii\n",
            "C:\\Users\\asus\\Downloads\\resized_train_data\\images1\\image_373.jpg C:\\Users\\asus\\Downloads\\resized_train_data\\masks1\\mask_373.png\n",
            "C:\\Users\\asus\\Downloads\\resized_train_data\\new_masks\\a\\images1\\image_373.png\n",
            "a\\images1\\image_358 hii\n",
            "C:\\Users\\asus\\Downloads\\resized_train_data\\images1\\image_358.jpg C:\\Users\\asus\\Downloads\\resized_train_data\\masks1\\mask_358.png\n",
            "C:\\Users\\asus\\Downloads\\resized_train_data\\new_masks\\a\\images1\\image_358.png\n",
            "a\\images1\\image_758 hii\n",
            "C:\\Users\\asus\\Downloads\\resized_train_data\\images1\\image_758.jpg C:\\Users\\asus\\Downloads\\resized_train_data\\masks1\\mask_758.png\n"
          ]
        },
        {
          "name": "stderr",
          "output_type": "stream",
          "text": [
            " 44%|████▍     | 201/459 [00:16<00:21, 12.12it/s]"
          ]
        },
        {
          "name": "stdout",
          "output_type": "stream",
          "text": [
            "C:\\Users\\asus\\Downloads\\resized_train_data\\new_masks\\a\\images1\\image_758.png\n",
            "a\\images1\\image_402 hii\n",
            "C:\\Users\\asus\\Downloads\\resized_train_data\\images1\\image_402.jpg C:\\Users\\asus\\Downloads\\resized_train_data\\masks1\\mask_402.png\n",
            "C:\\Users\\asus\\Downloads\\resized_train_data\\new_masks\\a\\images1\\image_402.png\n",
            "a\\images1\\image_250 hii\n",
            "C:\\Users\\asus\\Downloads\\resized_train_data\\images1\\image_250.jpg C:\\Users\\asus\\Downloads\\resized_train_data\\masks1\\mask_250.png\n",
            "C:\\Users\\asus\\Downloads\\resized_train_data\\new_masks\\a\\images1\\image_250.png\n",
            "a\\images1\\image_364 hii\n",
            "C:\\Users\\asus\\Downloads\\resized_train_data\\images1\\image_364.jpg C:\\Users\\asus\\Downloads\\resized_train_data\\masks1\\mask_364.png\n"
          ]
        },
        {
          "name": "stderr",
          "output_type": "stream",
          "text": [
            " 45%|████▍     | 205/459 [00:16<00:20, 12.38it/s]"
          ]
        },
        {
          "name": "stdout",
          "output_type": "stream",
          "text": [
            "C:\\Users\\asus\\Downloads\\resized_train_data\\new_masks\\a\\images1\\image_364.png\n",
            "a\\images1\\image_607 hii\n",
            "C:\\Users\\asus\\Downloads\\resized_train_data\\images1\\image_607.jpg C:\\Users\\asus\\Downloads\\resized_train_data\\masks1\\mask_607.png\n",
            "C:\\Users\\asus\\Downloads\\resized_train_data\\new_masks\\a\\images1\\image_607.png\n",
            "a\\images1\\image_229 hii\n",
            "C:\\Users\\asus\\Downloads\\resized_train_data\\images1\\image_229.jpg C:\\Users\\asus\\Downloads\\resized_train_data\\masks1\\mask_229.png\n",
            "C:\\Users\\asus\\Downloads\\resized_train_data\\new_masks\\a\\images1\\image_229.png\n",
            "a\\images1\\image_434 hii\n",
            "C:\\Users\\asus\\Downloads\\resized_train_data\\images1\\image_434.jpg C:\\Users\\asus\\Downloads\\resized_train_data\\masks1\\mask_434.png\n"
          ]
        },
        {
          "name": "stderr",
          "output_type": "stream",
          "text": [
            " 45%|████▌     | 207/459 [00:17<00:20, 12.14it/s]"
          ]
        },
        {
          "name": "stdout",
          "output_type": "stream",
          "text": [
            "C:\\Users\\asus\\Downloads\\resized_train_data\\new_masks\\a\\images1\\image_434.png\n",
            "a\\images1\\image_582 hii\n",
            "C:\\Users\\asus\\Downloads\\resized_train_data\\images1\\image_582.jpg C:\\Users\\asus\\Downloads\\resized_train_data\\masks1\\mask_582.png\n",
            "C:\\Users\\asus\\Downloads\\resized_train_data\\new_masks\\a\\images1\\image_582.png\n",
            "a\\images1\\image_655 hii\n",
            "C:\\Users\\asus\\Downloads\\resized_train_data\\images1\\image_655.jpg C:\\Users\\asus\\Downloads\\resized_train_data\\masks1\\mask_655.png\n",
            "C:\\Users\\asus\\Downloads\\resized_train_data\\new_masks\\a\\images1\\image_655.png\n",
            "a\\images1\\image_605 hii\n",
            "C:\\Users\\asus\\Downloads\\resized_train_data\\images1\\image_605.jpg C:\\Users\\asus\\Downloads\\resized_train_data\\masks1\\mask_605.png\n"
          ]
        },
        {
          "name": "stderr",
          "output_type": "stream",
          "text": [
            " 46%|████▌     | 211/459 [00:17<00:20, 11.90it/s]"
          ]
        },
        {
          "name": "stdout",
          "output_type": "stream",
          "text": [
            "C:\\Users\\asus\\Downloads\\resized_train_data\\new_masks\\a\\images1\\image_605.png\n",
            "a\\images1\\image_235 hii\n",
            "C:\\Users\\asus\\Downloads\\resized_train_data\\images1\\image_235.jpg C:\\Users\\asus\\Downloads\\resized_train_data\\masks1\\mask_235.png\n",
            "C:\\Users\\asus\\Downloads\\resized_train_data\\new_masks\\a\\images1\\image_235.png\n",
            "a\\images1\\image_419 hii\n",
            "C:\\Users\\asus\\Downloads\\resized_train_data\\images1\\image_419.jpg C:\\Users\\asus\\Downloads\\resized_train_data\\masks1\\mask_419.png\n",
            "C:\\Users\\asus\\Downloads\\resized_train_data\\new_masks\\a\\images1\\image_419.png\n",
            "a\\images1\\image_269 hii\n",
            "C:\\Users\\asus\\Downloads\\resized_train_data\\images1\\image_269.jpg C:\\Users\\asus\\Downloads\\resized_train_data\\masks1\\mask_269.png\n"
          ]
        },
        {
          "name": "stderr",
          "output_type": "stream",
          "text": [
            " 46%|████▋     | 213/459 [00:17<00:20, 12.26it/s]"
          ]
        },
        {
          "name": "stdout",
          "output_type": "stream",
          "text": [
            "C:\\Users\\asus\\Downloads\\resized_train_data\\new_masks\\a\\images1\\image_269.png\n",
            "a\\images1\\image_1 hii\n",
            "C:\\Users\\asus\\Downloads\\resized_train_data\\images1\\image_1.jpg C:\\Users\\asus\\Downloads\\resized_train_data\\masks1\\mask_1.png\n",
            "C:\\Users\\asus\\Downloads\\resized_train_data\\new_masks\\a\\images1\\image_1.png\n",
            "a\\images1\\image_374 hii\n",
            "C:\\Users\\asus\\Downloads\\resized_train_data\\images1\\image_374.jpg C:\\Users\\asus\\Downloads\\resized_train_data\\masks1\\mask_374.png\n",
            "C:\\Users\\asus\\Downloads\\resized_train_data\\new_masks\\a\\images1\\image_374.png\n",
            "a\\images1\\image_82 hii\n",
            "C:\\Users\\asus\\Downloads\\resized_train_data\\images1\\image_82.jpg C:\\Users\\asus\\Downloads\\resized_train_data\\masks1\\mask_82.png\n"
          ]
        },
        {
          "name": "stderr",
          "output_type": "stream",
          "text": [
            " 47%|████▋     | 217/459 [00:18<00:20, 11.66it/s]"
          ]
        },
        {
          "name": "stdout",
          "output_type": "stream",
          "text": [
            "C:\\Users\\asus\\Downloads\\resized_train_data\\new_masks\\a\\images1\\image_82.png\n",
            "a\\images1\\image_760 hii\n",
            "C:\\Users\\asus\\Downloads\\resized_train_data\\images1\\image_760.jpg C:\\Users\\asus\\Downloads\\resized_train_data\\masks1\\mask_760.png\n",
            "C:\\Users\\asus\\Downloads\\resized_train_data\\new_masks\\a\\images1\\image_760.png\n",
            "a\\images1\\image_583 hii\n",
            "C:\\Users\\asus\\Downloads\\resized_train_data\\images1\\image_583.jpg C:\\Users\\asus\\Downloads\\resized_train_data\\masks1\\mask_583.png\n",
            "C:\\Users\\asus\\Downloads\\resized_train_data\\new_masks\\a\\images1\\image_583.png\n",
            "a\\images1\\image_617 hii\n",
            "C:\\Users\\asus\\Downloads\\resized_train_data\\images1\\image_617.jpg C:\\Users\\asus\\Downloads\\resized_train_data\\masks1\\mask_617.png\n"
          ]
        },
        {
          "name": "stderr",
          "output_type": "stream",
          "text": [
            " 48%|████▊     | 219/459 [00:18<00:19, 12.08it/s]"
          ]
        },
        {
          "name": "stdout",
          "output_type": "stream",
          "text": [
            "C:\\Users\\asus\\Downloads\\resized_train_data\\new_masks\\a\\images1\\image_617.png\n",
            "a\\images1\\image_736 hii\n",
            "C:\\Users\\asus\\Downloads\\resized_train_data\\images1\\image_736.jpg C:\\Users\\asus\\Downloads\\resized_train_data\\masks1\\mask_736.png\n",
            "C:\\Users\\asus\\Downloads\\resized_train_data\\new_masks\\a\\images1\\image_736.png\n",
            "a\\images1\\image_681 hii\n",
            "C:\\Users\\asus\\Downloads\\resized_train_data\\images1\\image_681.jpg C:\\Users\\asus\\Downloads\\resized_train_data\\masks1\\mask_681.png\n",
            "C:\\Users\\asus\\Downloads\\resized_train_data\\new_masks\\a\\images1\\image_681.png\n",
            "a\\images1\\image_3 hii\n",
            "C:\\Users\\asus\\Downloads\\resized_train_data\\images1\\image_3.jpg C:\\Users\\asus\\Downloads\\resized_train_data\\masks1\\mask_3.png\n"
          ]
        },
        {
          "name": "stderr",
          "output_type": "stream",
          "text": [
            " 49%|████▊     | 223/459 [00:18<00:20, 11.78it/s]"
          ]
        },
        {
          "name": "stdout",
          "output_type": "stream",
          "text": [
            "C:\\Users\\asus\\Downloads\\resized_train_data\\new_masks\\a\\images1\\image_3.png\n",
            "a\\images1\\image_524 hii\n",
            "C:\\Users\\asus\\Downloads\\resized_train_data\\images1\\image_524.jpg C:\\Users\\asus\\Downloads\\resized_train_data\\masks1\\mask_524.png\n",
            "C:\\Users\\asus\\Downloads\\resized_train_data\\new_masks\\a\\images1\\image_524.png\n",
            "a\\images1\\image_564 hii\n",
            "C:\\Users\\asus\\Downloads\\resized_train_data\\images1\\image_564.jpg C:\\Users\\asus\\Downloads\\resized_train_data\\masks1\\mask_564.png\n",
            "C:\\Users\\asus\\Downloads\\resized_train_data\\new_masks\\a\\images1\\image_564.png\n"
          ]
        },
        {
          "name": "stderr",
          "output_type": "stream",
          "text": [
            " 49%|████▉     | 225/459 [00:18<00:19, 12.08it/s]"
          ]
        },
        {
          "name": "stdout",
          "output_type": "stream",
          "text": [
            "a\\images1\\image_251 hii\n",
            "C:\\Users\\asus\\Downloads\\resized_train_data\\images1\\image_251.jpg C:\\Users\\asus\\Downloads\\resized_train_data\\masks1\\mask_251.png\n",
            "C:\\Users\\asus\\Downloads\\resized_train_data\\new_masks\\a\\images1\\image_251.png\n",
            "a\\images1\\image_448 hii\n",
            "C:\\Users\\asus\\Downloads\\resized_train_data\\images1\\image_448.jpg C:\\Users\\asus\\Downloads\\resized_train_data\\masks1\\mask_448.png\n",
            "C:\\Users\\asus\\Downloads\\resized_train_data\\new_masks\\a\\images1\\image_448.png\n",
            "a\\images1\\image_584 hii\n",
            "C:\\Users\\asus\\Downloads\\resized_train_data\\images1\\image_584.jpg C:\\Users\\asus\\Downloads\\resized_train_data\\masks1\\mask_584.png\n"
          ]
        },
        {
          "name": "stderr",
          "output_type": "stream",
          "text": [
            " 49%|████▉     | 227/459 [00:18<00:19, 11.94it/s]"
          ]
        },
        {
          "name": "stdout",
          "output_type": "stream",
          "text": [
            "C:\\Users\\asus\\Downloads\\resized_train_data\\new_masks\\a\\images1\\image_584.png\n",
            "a\\images1\\image_383 hii\n",
            "C:\\Users\\asus\\Downloads\\resized_train_data\\images1\\image_383.jpg C:\\Users\\asus\\Downloads\\resized_train_data\\masks1\\mask_383.png\n",
            "C:\\Users\\asus\\Downloads\\resized_train_data\\new_masks\\a\\images1\\image_383.png\n",
            "a\\images1\\image_405 hii\n",
            "C:\\Users\\asus\\Downloads\\resized_train_data\\images1\\image_405.jpg C:\\Users\\asus\\Downloads\\resized_train_data\\masks1\\mask_405.png\n",
            "C:\\Users\\asus\\Downloads\\resized_train_data\\new_masks\\a\\images1\\image_405.png\n",
            "a\\images1\\image_389 hii\n",
            "C:\\Users\\asus\\Downloads\\resized_train_data\\images1\\image_389.jpg C:\\Users\\asus\\Downloads\\resized_train_data\\masks1\\mask_389.png\n"
          ]
        },
        {
          "name": "stderr",
          "output_type": "stream",
          "text": [
            " 50%|█████     | 231/459 [00:19<00:18, 12.32it/s]"
          ]
        },
        {
          "name": "stdout",
          "output_type": "stream",
          "text": [
            "C:\\Users\\asus\\Downloads\\resized_train_data\\new_masks\\a\\images1\\image_389.png\n",
            "a\\images1\\image_215 hii\n",
            "C:\\Users\\asus\\Downloads\\resized_train_data\\images1\\image_215.jpg C:\\Users\\asus\\Downloads\\resized_train_data\\masks1\\mask_215.png\n",
            "C:\\Users\\asus\\Downloads\\resized_train_data\\new_masks\\a\\images1\\image_215.png\n",
            "a\\images1\\image_566 hii\n",
            "C:\\Users\\asus\\Downloads\\resized_train_data\\images1\\image_566.jpg C:\\Users\\asus\\Downloads\\resized_train_data\\masks1\\mask_566.png\n",
            "C:\\Users\\asus\\Downloads\\resized_train_data\\new_masks\\a\\images1\\image_566.png\n",
            "a\\images1\\image_203 hii\n",
            "C:\\Users\\asus\\Downloads\\resized_train_data\\images1\\image_203.jpg C:\\Users\\asus\\Downloads\\resized_train_data\\masks1\\mask_203.png\n"
          ]
        },
        {
          "name": "stderr",
          "output_type": "stream",
          "text": [
            " 51%|█████     | 233/459 [00:19<00:19, 11.68it/s]"
          ]
        },
        {
          "name": "stdout",
          "output_type": "stream",
          "text": [
            "C:\\Users\\asus\\Downloads\\resized_train_data\\new_masks\\a\\images1\\image_203.png\n",
            "a\\images1\\image_573 hii\n",
            "C:\\Users\\asus\\Downloads\\resized_train_data\\images1\\image_573.jpg C:\\Users\\asus\\Downloads\\resized_train_data\\masks1\\mask_573.png\n",
            "C:\\Users\\asus\\Downloads\\resized_train_data\\new_masks\\a\\images1\\image_573.png\n",
            "a\\images1\\image_559 hii\n",
            "C:\\Users\\asus\\Downloads\\resized_train_data\\images1\\image_559.jpg C:\\Users\\asus\\Downloads\\resized_train_data\\masks1\\mask_559.png\n",
            "C:\\Users\\asus\\Downloads\\resized_train_data\\new_masks\\a\\images1\\image_559.png\n",
            "a\\images1\\image_732 hii\n",
            "C:\\Users\\asus\\Downloads\\resized_train_data\\images1\\image_732.jpg C:\\Users\\asus\\Downloads\\resized_train_data\\masks1\\mask_732.png\n"
          ]
        },
        {
          "name": "stderr",
          "output_type": "stream",
          "text": [
            " 52%|█████▏    | 237/459 [00:19<00:18, 11.98it/s]"
          ]
        },
        {
          "name": "stdout",
          "output_type": "stream",
          "text": [
            "C:\\Users\\asus\\Downloads\\resized_train_data\\new_masks\\a\\images1\\image_732.png\n",
            "a\\images1\\image_140 hii\n",
            "C:\\Users\\asus\\Downloads\\resized_train_data\\images1\\image_140.jpg C:\\Users\\asus\\Downloads\\resized_train_data\\masks1\\mask_140.png\n",
            "C:\\Users\\asus\\Downloads\\resized_train_data\\new_masks\\a\\images1\\image_140.png\n",
            "a\\images1\\image_541 hii\n",
            "C:\\Users\\asus\\Downloads\\resized_train_data\\images1\\image_541.jpg C:\\Users\\asus\\Downloads\\resized_train_data\\masks1\\mask_541.png\n",
            "C:\\Users\\asus\\Downloads\\resized_train_data\\new_masks\\a\\images1\\image_541.png\n",
            "a\\images1\\image_243 hii\n",
            "C:\\Users\\asus\\Downloads\\resized_train_data\\images1\\image_243.jpg C:\\Users\\asus\\Downloads\\resized_train_data\\masks1\\mask_243.png\n"
          ]
        },
        {
          "name": "stderr",
          "output_type": "stream",
          "text": [
            " 52%|█████▏    | 239/459 [00:19<00:17, 12.29it/s]"
          ]
        },
        {
          "name": "stdout",
          "output_type": "stream",
          "text": [
            "C:\\Users\\asus\\Downloads\\resized_train_data\\new_masks\\a\\images1\\image_243.png\n",
            "a\\images1\\image_709 hii\n",
            "C:\\Users\\asus\\Downloads\\resized_train_data\\images1\\image_709.jpg C:\\Users\\asus\\Downloads\\resized_train_data\\masks1\\mask_709.png\n",
            "C:\\Users\\asus\\Downloads\\resized_train_data\\new_masks\\a\\images1\\image_709.png\n",
            "a\\images1\\image_193 hii\n",
            "C:\\Users\\asus\\Downloads\\resized_train_data\\images1\\image_193.jpg C:\\Users\\asus\\Downloads\\resized_train_data\\masks1\\mask_193.png\n",
            "C:\\Users\\asus\\Downloads\\resized_train_data\\new_masks\\a\\images1\\image_193.png\n",
            "a\\images1\\image_23 hii\n",
            "C:\\Users\\asus\\Downloads\\resized_train_data\\images1\\image_23.jpg C:\\Users\\asus\\Downloads\\resized_train_data\\masks1\\mask_23.png\n"
          ]
        },
        {
          "name": "stderr",
          "output_type": "stream",
          "text": [
            " 53%|█████▎    | 243/459 [00:20<00:18, 11.72it/s]"
          ]
        },
        {
          "name": "stdout",
          "output_type": "stream",
          "text": [
            "C:\\Users\\asus\\Downloads\\resized_train_data\\new_masks\\a\\images1\\image_23.png\n",
            "a\\images1\\image_730 hii\n",
            "C:\\Users\\asus\\Downloads\\resized_train_data\\images1\\image_730.jpg C:\\Users\\asus\\Downloads\\resized_train_data\\masks1\\mask_730.png\n",
            "C:\\Users\\asus\\Downloads\\resized_train_data\\new_masks\\a\\images1\\image_730.png\n",
            "a\\images1\\image_496 hii\n",
            "C:\\Users\\asus\\Downloads\\resized_train_data\\images1\\image_496.jpg C:\\Users\\asus\\Downloads\\resized_train_data\\masks1\\mask_496.png\n",
            "C:\\Users\\asus\\Downloads\\resized_train_data\\new_masks\\a\\images1\\image_496.png\n"
          ]
        },
        {
          "name": "stderr",
          "output_type": "stream",
          "text": [
            " 53%|█████▎    | 245/459 [00:20<00:18, 11.59it/s]"
          ]
        },
        {
          "name": "stdout",
          "output_type": "stream",
          "text": [
            "a\\images1\\image_643 hii\n",
            "C:\\Users\\asus\\Downloads\\resized_train_data\\images1\\image_643.jpg C:\\Users\\asus\\Downloads\\resized_train_data\\masks1\\mask_643.png\n",
            "C:\\Users\\asus\\Downloads\\resized_train_data\\new_masks\\a\\images1\\image_643.png\n",
            "a\\images1\\image_67 hii\n",
            "C:\\Users\\asus\\Downloads\\resized_train_data\\images1\\image_67.jpg C:\\Users\\asus\\Downloads\\resized_train_data\\masks1\\mask_67.png\n",
            "C:\\Users\\asus\\Downloads\\resized_train_data\\new_masks\\a\\images1\\image_67.png\n",
            "a\\images1\\image_311 hii\n",
            "C:\\Users\\asus\\Downloads\\resized_train_data\\images1\\image_311.jpg C:\\Users\\asus\\Downloads\\resized_train_data\\masks1\\mask_311.png\n"
          ]
        },
        {
          "name": "stderr",
          "output_type": "stream",
          "text": [
            " 54%|█████▍    | 247/459 [00:20<00:18, 11.60it/s]"
          ]
        },
        {
          "name": "stdout",
          "output_type": "stream",
          "text": [
            "C:\\Users\\asus\\Downloads\\resized_train_data\\new_masks\\a\\images1\\image_311.png\n",
            "a\\images1\\image_630 hii\n",
            "C:\\Users\\asus\\Downloads\\resized_train_data\\images1\\image_630.jpg C:\\Users\\asus\\Downloads\\resized_train_data\\masks1\\mask_630.png\n",
            "C:\\Users\\asus\\Downloads\\resized_train_data\\new_masks\\a\\images1\\image_630.png\n",
            "a\\images1\\image_676 hii\n",
            "C:\\Users\\asus\\Downloads\\resized_train_data\\images1\\image_676.jpg C:\\Users\\asus\\Downloads\\resized_train_data\\masks1\\mask_676.png\n",
            "C:\\Users\\asus\\Downloads\\resized_train_data\\new_masks\\a\\images1\\image_676.png\n",
            "a\\images1\\image_249 hii\n",
            "C:\\Users\\asus\\Downloads\\resized_train_data\\images1\\image_249.jpg C:\\Users\\asus\\Downloads\\resized_train_data\\masks1\\mask_249.png\n"
          ]
        },
        {
          "name": "stderr",
          "output_type": "stream",
          "text": [
            " 55%|█████▍    | 251/459 [00:20<00:17, 11.79it/s]"
          ]
        },
        {
          "name": "stdout",
          "output_type": "stream",
          "text": [
            "C:\\Users\\asus\\Downloads\\resized_train_data\\new_masks\\a\\images1\\image_249.png\n",
            "a\\images1\\image_403 hii\n",
            "C:\\Users\\asus\\Downloads\\resized_train_data\\images1\\image_403.jpg C:\\Users\\asus\\Downloads\\resized_train_data\\masks1\\mask_403.png\n",
            "C:\\Users\\asus\\Downloads\\resized_train_data\\new_masks\\a\\images1\\image_403.png\n",
            "a\\images1\\image_515 hii\n",
            "C:\\Users\\asus\\Downloads\\resized_train_data\\images1\\image_515.jpg C:\\Users\\asus\\Downloads\\resized_train_data\\masks1\\mask_515.png\n",
            "C:\\Users\\asus\\Downloads\\resized_train_data\\new_masks\\a\\images1\\image_515.png\n",
            "a\\images1\\image_550 hii\n",
            "C:\\Users\\asus\\Downloads\\resized_train_data\\images1\\image_550.jpg C:\\Users\\asus\\Downloads\\resized_train_data\\masks1\\mask_550.png\n"
          ]
        },
        {
          "name": "stderr",
          "output_type": "stream",
          "text": [
            " 55%|█████▌    | 253/459 [00:21<00:17, 11.90it/s]"
          ]
        },
        {
          "name": "stdout",
          "output_type": "stream",
          "text": [
            "C:\\Users\\asus\\Downloads\\resized_train_data\\new_masks\\a\\images1\\image_550.png\n",
            "a\\images1\\image_409 hii\n",
            "C:\\Users\\asus\\Downloads\\resized_train_data\\images1\\image_409.jpg C:\\Users\\asus\\Downloads\\resized_train_data\\masks1\\mask_409.png\n",
            "C:\\Users\\asus\\Downloads\\resized_train_data\\new_masks\\a\\images1\\image_409.png\n",
            "a\\images1\\image_266 hii\n",
            "C:\\Users\\asus\\Downloads\\resized_train_data\\images1\\image_266.jpg C:\\Users\\asus\\Downloads\\resized_train_data\\masks1\\mask_266.png\n",
            "C:\\Users\\asus\\Downloads\\resized_train_data\\new_masks\\a\\images1\\image_266.png\n",
            "a\\images1\\image_267 hii\n",
            "C:\\Users\\asus\\Downloads\\resized_train_data\\images1\\image_267.jpg C:\\Users\\asus\\Downloads\\resized_train_data\\masks1\\mask_267.png\n"
          ]
        },
        {
          "name": "stderr",
          "output_type": "stream",
          "text": [
            " 56%|█████▌    | 255/459 [00:21<00:17, 11.78it/s]"
          ]
        },
        {
          "name": "stdout",
          "output_type": "stream",
          "text": [
            "C:\\Users\\asus\\Downloads\\resized_train_data\\new_masks\\a\\images1\\image_267.png\n",
            "a\\images1\\image_362 hii\n",
            "C:\\Users\\asus\\Downloads\\resized_train_data\\images1\\image_362.jpg C:\\Users\\asus\\Downloads\\resized_train_data\\masks1\\mask_362.png\n",
            "C:\\Users\\asus\\Downloads\\resized_train_data\\new_masks\\a\\images1\\image_362.png\n",
            "a\\images1\\image_505 hii\n",
            "C:\\Users\\asus\\Downloads\\resized_train_data\\images1\\image_505.jpg C:\\Users\\asus\\Downloads\\resized_train_data\\masks1\\mask_505.png\n",
            "C:\\Users\\asus\\Downloads\\resized_train_data\\new_masks\\a\\images1\\image_505.png\n"
          ]
        },
        {
          "name": "stderr",
          "output_type": "stream",
          "text": [
            " 56%|█████▋    | 259/459 [00:21<00:17, 11.54it/s]"
          ]
        },
        {
          "name": "stdout",
          "output_type": "stream",
          "text": [
            "a\\images1\\image_376 hii\n",
            "C:\\Users\\asus\\Downloads\\resized_train_data\\images1\\image_376.jpg C:\\Users\\asus\\Downloads\\resized_train_data\\masks1\\mask_376.png\n",
            "C:\\Users\\asus\\Downloads\\resized_train_data\\new_masks\\a\\images1\\image_376.png\n",
            "a\\images1\\image_328 hii\n",
            "C:\\Users\\asus\\Downloads\\resized_train_data\\images1\\image_328.jpg C:\\Users\\asus\\Downloads\\resized_train_data\\masks1\\mask_328.png\n",
            "C:\\Users\\asus\\Downloads\\resized_train_data\\new_masks\\a\\images1\\image_328.png\n",
            "a\\images1\\image_132 hii\n",
            "C:\\Users\\asus\\Downloads\\resized_train_data\\images1\\image_132.jpg C:\\Users\\asus\\Downloads\\resized_train_data\\masks1\\mask_132.png\n"
          ]
        },
        {
          "name": "stderr",
          "output_type": "stream",
          "text": [
            " 57%|█████▋    | 261/459 [00:21<00:16, 11.85it/s]"
          ]
        },
        {
          "name": "stdout",
          "output_type": "stream",
          "text": [
            "C:\\Users\\asus\\Downloads\\resized_train_data\\new_masks\\a\\images1\\image_132.png\n",
            "a\\images1\\image_602 hii\n",
            "C:\\Users\\asus\\Downloads\\resized_train_data\\images1\\image_602.jpg C:\\Users\\asus\\Downloads\\resized_train_data\\masks1\\mask_602.png\n",
            "C:\\Users\\asus\\Downloads\\resized_train_data\\new_masks\\a\\images1\\image_602.png\n",
            "a\\images1\\image_639 hii\n",
            "C:\\Users\\asus\\Downloads\\resized_train_data\\images1\\image_639.jpg C:\\Users\\asus\\Downloads\\resized_train_data\\masks1\\mask_639.png\n"
          ]
        },
        {
          "name": "stderr",
          "output_type": "stream",
          "text": [
            " 57%|█████▋    | 263/459 [00:21<00:18, 10.57it/s]"
          ]
        },
        {
          "name": "stdout",
          "output_type": "stream",
          "text": [
            "C:\\Users\\asus\\Downloads\\resized_train_data\\new_masks\\a\\images1\\image_639.png\n",
            "a\\images1\\image_165 hii\n",
            "C:\\Users\\asus\\Downloads\\resized_train_data\\images1\\image_165.jpg C:\\Users\\asus\\Downloads\\resized_train_data\\masks1\\mask_165.png\n",
            "C:\\Users\\asus\\Downloads\\resized_train_data\\new_masks\\a\\images1\\image_165.png\n",
            "a\\images1\\image_342 hii\n",
            "C:\\Users\\asus\\Downloads\\resized_train_data\\images1\\image_342.jpg C:\\Users\\asus\\Downloads\\resized_train_data\\masks1\\mask_342.png\n",
            "C:\\Users\\asus\\Downloads\\resized_train_data\\new_masks\\a\\images1\\image_342.png\n",
            "a\\images1\\image_446 hii\n",
            "C:\\Users\\asus\\Downloads\\resized_train_data\\images1\\image_446.jpg C:\\Users\\asus\\Downloads\\resized_train_data\\masks1\\mask_446.png\n"
          ]
        },
        {
          "name": "stderr",
          "output_type": "stream",
          "text": [
            " 58%|█████▊    | 267/459 [00:22<00:16, 11.40it/s]"
          ]
        },
        {
          "name": "stdout",
          "output_type": "stream",
          "text": [
            "C:\\Users\\asus\\Downloads\\resized_train_data\\new_masks\\a\\images1\\image_446.png\n",
            "a\\images1\\image_222 hii\n",
            "C:\\Users\\asus\\Downloads\\resized_train_data\\images1\\image_222.jpg C:\\Users\\asus\\Downloads\\resized_train_data\\masks1\\mask_222.png\n",
            "C:\\Users\\asus\\Downloads\\resized_train_data\\new_masks\\a\\images1\\image_222.png\n",
            "a\\images1\\image_687 hii\n",
            "C:\\Users\\asus\\Downloads\\resized_train_data\\images1\\image_687.jpg C:\\Users\\asus\\Downloads\\resized_train_data\\masks1\\mask_687.png\n",
            "C:\\Users\\asus\\Downloads\\resized_train_data\\new_masks\\a\\images1\\image_687.png\n",
            "a\\images1\\image_478 hii\n",
            "C:\\Users\\asus\\Downloads\\resized_train_data\\images1\\image_478.jpg C:\\Users\\asus\\Downloads\\resized_train_data\\masks1\\mask_478.png\n"
          ]
        },
        {
          "name": "stderr",
          "output_type": "stream",
          "text": [
            " 59%|█████▊    | 269/459 [00:22<00:16, 11.63it/s]"
          ]
        },
        {
          "name": "stdout",
          "output_type": "stream",
          "text": [
            "C:\\Users\\asus\\Downloads\\resized_train_data\\new_masks\\a\\images1\\image_478.png\n",
            "a\\images1\\image_542 hii\n",
            "C:\\Users\\asus\\Downloads\\resized_train_data\\images1\\image_542.jpg C:\\Users\\asus\\Downloads\\resized_train_data\\masks1\\mask_542.png\n",
            "C:\\Users\\asus\\Downloads\\resized_train_data\\new_masks\\a\\images1\\image_542.png\n",
            "a\\images1\\image_379 hii\n",
            "C:\\Users\\asus\\Downloads\\resized_train_data\\images1\\image_379.jpg C:\\Users\\asus\\Downloads\\resized_train_data\\masks1\\mask_379.png\n",
            "C:\\Users\\asus\\Downloads\\resized_train_data\\new_masks\\a\\images1\\image_379.png\n",
            "a\\images1\\image_439 hii\n",
            "C:\\Users\\asus\\Downloads\\resized_train_data\\images1\\image_439.jpg C:\\Users\\asus\\Downloads\\resized_train_data\\masks1\\mask_439.png\n"
          ]
        },
        {
          "name": "stderr",
          "output_type": "stream",
          "text": [
            " 59%|█████▉    | 273/459 [00:22<00:16, 11.48it/s]"
          ]
        },
        {
          "name": "stdout",
          "output_type": "stream",
          "text": [
            "C:\\Users\\asus\\Downloads\\resized_train_data\\new_masks\\a\\images1\\image_439.png\n",
            "a\\images1\\image_76 hii\n",
            "C:\\Users\\asus\\Downloads\\resized_train_data\\images1\\image_76.jpg C:\\Users\\asus\\Downloads\\resized_train_data\\masks1\\mask_76.png\n",
            "C:\\Users\\asus\\Downloads\\resized_train_data\\new_masks\\a\\images1\\image_76.png\n",
            "a\\images1\\image_62 hii\n",
            "C:\\Users\\asus\\Downloads\\resized_train_data\\images1\\image_62.jpg C:\\Users\\asus\\Downloads\\resized_train_data\\masks1\\mask_62.png\n",
            "C:\\Users\\asus\\Downloads\\resized_train_data\\new_masks\\a\\images1\\image_62.png\n",
            "a\\images1\\image_545 hii\n",
            "C:\\Users\\asus\\Downloads\\resized_train_data\\images1\\image_545.jpg C:\\Users\\asus\\Downloads\\resized_train_data\\masks1\\mask_545.png\n"
          ]
        },
        {
          "name": "stderr",
          "output_type": "stream",
          "text": [
            " 60%|█████▉    | 275/459 [00:22<00:15, 11.68it/s]"
          ]
        },
        {
          "name": "stdout",
          "output_type": "stream",
          "text": [
            "C:\\Users\\asus\\Downloads\\resized_train_data\\new_masks\\a\\images1\\image_545.png\n",
            "a\\images1\\image_182 hii\n",
            "C:\\Users\\asus\\Downloads\\resized_train_data\\images1\\image_182.jpg C:\\Users\\asus\\Downloads\\resized_train_data\\masks1\\mask_182.png\n",
            "C:\\Users\\asus\\Downloads\\resized_train_data\\new_masks\\a\\images1\\image_182.png\n",
            "a\\images1\\image_112 hii\n",
            "C:\\Users\\asus\\Downloads\\resized_train_data\\images1\\image_112.jpg C:\\Users\\asus\\Downloads\\resized_train_data\\masks1\\mask_112.png\n",
            "C:\\Users\\asus\\Downloads\\resized_train_data\\new_masks\\a\\images1\\image_112.png\n",
            "a\\images1\\image_258 hii\n",
            "C:\\Users\\asus\\Downloads\\resized_train_data\\images1\\image_258.jpg C:\\Users\\asus\\Downloads\\resized_train_data\\masks1\\mask_258.png\n"
          ]
        },
        {
          "name": "stderr",
          "output_type": "stream",
          "text": [
            " 61%|██████    | 279/459 [00:23<00:15, 11.99it/s]"
          ]
        },
        {
          "name": "stdout",
          "output_type": "stream",
          "text": [
            "C:\\Users\\asus\\Downloads\\resized_train_data\\new_masks\\a\\images1\\image_258.png\n",
            "a\\images1\\image_227 hii\n",
            "C:\\Users\\asus\\Downloads\\resized_train_data\\images1\\image_227.jpg C:\\Users\\asus\\Downloads\\resized_train_data\\masks1\\mask_227.png\n",
            "C:\\Users\\asus\\Downloads\\resized_train_data\\new_masks\\a\\images1\\image_227.png\n",
            "a\\images1\\image_587 hii\n",
            "C:\\Users\\asus\\Downloads\\resized_train_data\\images1\\image_587.jpg C:\\Users\\asus\\Downloads\\resized_train_data\\masks1\\mask_587.png\n",
            "C:\\Users\\asus\\Downloads\\resized_train_data\\new_masks\\a\\images1\\image_587.png\n",
            "a\\images1\\image_110 hii\n",
            "C:\\Users\\asus\\Downloads\\resized_train_data\\images1\\image_110.jpg C:\\Users\\asus\\Downloads\\resized_train_data\\masks1\\mask_110.png\n"
          ]
        },
        {
          "name": "stderr",
          "output_type": "stream",
          "text": [
            " 61%|██████    | 281/459 [00:23<00:14, 12.36it/s]"
          ]
        },
        {
          "name": "stdout",
          "output_type": "stream",
          "text": [
            "C:\\Users\\asus\\Downloads\\resized_train_data\\new_masks\\a\\images1\\image_110.png\n",
            "a\\images1\\image_738 hii\n",
            "C:\\Users\\asus\\Downloads\\resized_train_data\\images1\\image_738.jpg C:\\Users\\asus\\Downloads\\resized_train_data\\masks1\\mask_738.png\n",
            "C:\\Users\\asus\\Downloads\\resized_train_data\\new_masks\\a\\images1\\image_738.png\n",
            "a\\images1\\image_494 hii\n",
            "C:\\Users\\asus\\Downloads\\resized_train_data\\images1\\image_494.jpg C:\\Users\\asus\\Downloads\\resized_train_data\\masks1\\mask_494.png\n",
            "C:\\Users\\asus\\Downloads\\resized_train_data\\new_masks\\a\\images1\\image_494.png\n",
            "a\\images1\\image_192 hii\n",
            "C:\\Users\\asus\\Downloads\\resized_train_data\\images1\\image_192.jpg C:\\Users\\asus\\Downloads\\resized_train_data\\masks1\\mask_192.png\n"
          ]
        },
        {
          "name": "stderr",
          "output_type": "stream",
          "text": [
            " 62%|██████▏   | 285/459 [00:23<00:14, 12.08it/s]"
          ]
        },
        {
          "name": "stdout",
          "output_type": "stream",
          "text": [
            "C:\\Users\\asus\\Downloads\\resized_train_data\\new_masks\\a\\images1\\image_192.png\n",
            "a\\images1\\image_179 hii\n",
            "C:\\Users\\asus\\Downloads\\resized_train_data\\images1\\image_179.jpg C:\\Users\\asus\\Downloads\\resized_train_data\\masks1\\mask_179.png\n",
            "C:\\Users\\asus\\Downloads\\resized_train_data\\new_masks\\a\\images1\\image_179.png\n",
            "a\\images1\\image_294 hii\n",
            "C:\\Users\\asus\\Downloads\\resized_train_data\\images1\\image_294.jpg C:\\Users\\asus\\Downloads\\resized_train_data\\masks1\\mask_294.png\n",
            "C:\\Users\\asus\\Downloads\\resized_train_data\\new_masks\\a\\images1\\image_294.png\n"
          ]
        },
        {
          "name": "stderr",
          "output_type": "stream",
          "text": [
            " 63%|██████▎   | 287/459 [00:23<00:13, 12.41it/s]"
          ]
        },
        {
          "name": "stdout",
          "output_type": "stream",
          "text": [
            "a\\images1\\image_146 hii\n",
            "C:\\Users\\asus\\Downloads\\resized_train_data\\images1\\image_146.jpg C:\\Users\\asus\\Downloads\\resized_train_data\\masks1\\mask_146.png\n",
            "C:\\Users\\asus\\Downloads\\resized_train_data\\new_masks\\a\\images1\\image_146.png\n",
            "a\\images1\\image_658 hii\n",
            "C:\\Users\\asus\\Downloads\\resized_train_data\\images1\\image_658.jpg C:\\Users\\asus\\Downloads\\resized_train_data\\masks1\\mask_658.png\n",
            "C:\\Users\\asus\\Downloads\\resized_train_data\\new_masks\\a\\images1\\image_658.png\n",
            "a\\images1\\image_189 hii\n",
            "C:\\Users\\asus\\Downloads\\resized_train_data\\images1\\image_189.jpg C:\\Users\\asus\\Downloads\\resized_train_data\\masks1\\mask_189.png\n"
          ]
        },
        {
          "name": "stderr",
          "output_type": "stream",
          "text": [
            " 63%|██████▎   | 289/459 [00:24<00:13, 12.44it/s]"
          ]
        },
        {
          "name": "stdout",
          "output_type": "stream",
          "text": [
            "C:\\Users\\asus\\Downloads\\resized_train_data\\new_masks\\a\\images1\\image_189.png\n",
            "a\\images1\\image_525 hii\n",
            "C:\\Users\\asus\\Downloads\\resized_train_data\\images1\\image_525.jpg C:\\Users\\asus\\Downloads\\resized_train_data\\masks1\\mask_525.png\n",
            "C:\\Users\\asus\\Downloads\\resized_train_data\\new_masks\\a\\images1\\image_525.png\n",
            "a\\images1\\image_570 hii\n",
            "C:\\Users\\asus\\Downloads\\resized_train_data\\images1\\image_570.jpg C:\\Users\\asus\\Downloads\\resized_train_data\\masks1\\mask_570.png\n",
            "C:\\Users\\asus\\Downloads\\resized_train_data\\new_masks\\a\\images1\\image_570.png\n",
            "a\\images1\\image_497 hii\n",
            "C:\\Users\\asus\\Downloads\\resized_train_data\\images1\\image_497.jpg C:\\Users\\asus\\Downloads\\resized_train_data\\masks1\\mask_497.png\n"
          ]
        },
        {
          "name": "stderr",
          "output_type": "stream",
          "text": [
            " 64%|██████▍   | 293/459 [00:24<00:13, 12.51it/s]"
          ]
        },
        {
          "name": "stdout",
          "output_type": "stream",
          "text": [
            "C:\\Users\\asus\\Downloads\\resized_train_data\\new_masks\\a\\images1\\image_497.png\n",
            "a\\images1\\image_137 hii\n",
            "C:\\Users\\asus\\Downloads\\resized_train_data\\images1\\image_137.jpg C:\\Users\\asus\\Downloads\\resized_train_data\\masks1\\mask_137.png\n",
            "C:\\Users\\asus\\Downloads\\resized_train_data\\new_masks\\a\\images1\\image_137.png\n",
            "a\\images1\\image_518 hii\n",
            "C:\\Users\\asus\\Downloads\\resized_train_data\\images1\\image_518.jpg C:\\Users\\asus\\Downloads\\resized_train_data\\masks1\\mask_518.png\n",
            "C:\\Users\\asus\\Downloads\\resized_train_data\\new_masks\\a\\images1\\image_518.png\n",
            "a\\images1\\image_644 hii\n",
            "C:\\Users\\asus\\Downloads\\resized_train_data\\images1\\image_644.jpg C:\\Users\\asus\\Downloads\\resized_train_data\\masks1\\mask_644.png\n"
          ]
        },
        {
          "name": "stderr",
          "output_type": "stream",
          "text": [
            " 64%|██████▍   | 295/459 [00:24<00:13, 12.48it/s]"
          ]
        },
        {
          "name": "stdout",
          "output_type": "stream",
          "text": [
            "C:\\Users\\asus\\Downloads\\resized_train_data\\new_masks\\a\\images1\\image_644.png\n",
            "a\\images1\\image_421 hii\n",
            "C:\\Users\\asus\\Downloads\\resized_train_data\\images1\\image_421.jpg C:\\Users\\asus\\Downloads\\resized_train_data\\masks1\\mask_421.png\n",
            "C:\\Users\\asus\\Downloads\\resized_train_data\\new_masks\\a\\images1\\image_421.png\n",
            "a\\images1\\image_93 hii\n",
            "C:\\Users\\asus\\Downloads\\resized_train_data\\images1\\image_93.jpg C:\\Users\\asus\\Downloads\\resized_train_data\\masks1\\mask_93.png\n",
            "C:\\Users\\asus\\Downloads\\resized_train_data\\new_masks\\a\\images1\\image_93.png\n",
            "a\\images1\\image_719 hii\n",
            "C:\\Users\\asus\\Downloads\\resized_train_data\\images1\\image_719.jpg C:\\Users\\asus\\Downloads\\resized_train_data\\masks1\\mask_719.png\n"
          ]
        },
        {
          "name": "stderr",
          "output_type": "stream",
          "text": [
            " 65%|██████▌   | 299/459 [00:24<00:13, 11.68it/s]"
          ]
        },
        {
          "name": "stdout",
          "output_type": "stream",
          "text": [
            "C:\\Users\\asus\\Downloads\\resized_train_data\\new_masks\\a\\images1\\image_719.png\n",
            "a\\images1\\image_569 hii\n",
            "C:\\Users\\asus\\Downloads\\resized_train_data\\images1\\image_569.jpg C:\\Users\\asus\\Downloads\\resized_train_data\\masks1\\mask_569.png\n",
            "C:\\Users\\asus\\Downloads\\resized_train_data\\new_masks\\a\\images1\\image_569.png\n",
            "a\\images1\\image_80 hii\n",
            "C:\\Users\\asus\\Downloads\\resized_train_data\\images1\\image_80.jpg C:\\Users\\asus\\Downloads\\resized_train_data\\masks1\\mask_80.png\n",
            "C:\\Users\\asus\\Downloads\\resized_train_data\\new_masks\\a\\images1\\image_80.png\n",
            "a\\images1\\image_291 hii\n",
            "C:\\Users\\asus\\Downloads\\resized_train_data\\images1\\image_291.jpg C:\\Users\\asus\\Downloads\\resized_train_data\\masks1\\mask_291.png\n"
          ]
        },
        {
          "name": "stderr",
          "output_type": "stream",
          "text": [
            " 66%|██████▌   | 301/459 [00:25<00:13, 12.01it/s]"
          ]
        },
        {
          "name": "stdout",
          "output_type": "stream",
          "text": [
            "C:\\Users\\asus\\Downloads\\resized_train_data\\new_masks\\a\\images1\\image_291.png\n",
            "a\\images1\\image_259 hii\n",
            "C:\\Users\\asus\\Downloads\\resized_train_data\\images1\\image_259.jpg C:\\Users\\asus\\Downloads\\resized_train_data\\masks1\\mask_259.png\n",
            "C:\\Users\\asus\\Downloads\\resized_train_data\\new_masks\\a\\images1\\image_259.png\n",
            "a\\images1\\image_2 hii\n",
            "C:\\Users\\asus\\Downloads\\resized_train_data\\images1\\image_2.jpg C:\\Users\\asus\\Downloads\\resized_train_data\\masks1\\mask_2.png\n",
            "C:\\Users\\asus\\Downloads\\resized_train_data\\new_masks\\a\\images1\\image_2.png\n",
            "a\\images1\\image_631 hii\n",
            "C:\\Users\\asus\\Downloads\\resized_train_data\\images1\\image_631.jpg C:\\Users\\asus\\Downloads\\resized_train_data\\masks1\\mask_631.png\n"
          ]
        },
        {
          "name": "stderr",
          "output_type": "stream",
          "text": [
            " 66%|██████▋   | 305/459 [00:25<00:12, 12.11it/s]"
          ]
        },
        {
          "name": "stdout",
          "output_type": "stream",
          "text": [
            "C:\\Users\\asus\\Downloads\\resized_train_data\\new_masks\\a\\images1\\image_631.png\n",
            "a\\images1\\image_741 hii\n",
            "C:\\Users\\asus\\Downloads\\resized_train_data\\images1\\image_741.jpg C:\\Users\\asus\\Downloads\\resized_train_data\\masks1\\mask_741.png\n",
            "C:\\Users\\asus\\Downloads\\resized_train_data\\new_masks\\a\\images1\\image_741.png\n",
            "a\\images1\\image_264 hii\n",
            "C:\\Users\\asus\\Downloads\\resized_train_data\\images1\\image_264.jpg C:\\Users\\asus\\Downloads\\resized_train_data\\masks1\\mask_264.png\n",
            "C:\\Users\\asus\\Downloads\\resized_train_data\\new_masks\\a\\images1\\image_264.png\n",
            "a\\images1\\image_499 hii\n",
            "C:\\Users\\asus\\Downloads\\resized_train_data\\images1\\image_499.jpg C:\\Users\\asus\\Downloads\\resized_train_data\\masks1\\mask_499.png\n"
          ]
        },
        {
          "name": "stderr",
          "output_type": "stream",
          "text": [
            " 67%|██████▋   | 307/459 [00:25<00:12, 12.11it/s]"
          ]
        },
        {
          "name": "stdout",
          "output_type": "stream",
          "text": [
            "C:\\Users\\asus\\Downloads\\resized_train_data\\new_masks\\a\\images1\\image_499.png\n",
            "a\\images1\\image_88 hii\n",
            "C:\\Users\\asus\\Downloads\\resized_train_data\\images1\\image_88.jpg C:\\Users\\asus\\Downloads\\resized_train_data\\masks1\\mask_88.png\n",
            "C:\\Users\\asus\\Downloads\\resized_train_data\\new_masks\\a\\images1\\image_88.png\n",
            "a\\images1\\image_546 hii\n",
            "C:\\Users\\asus\\Downloads\\resized_train_data\\images1\\image_546.jpg C:\\Users\\asus\\Downloads\\resized_train_data\\masks1\\mask_546.png\n",
            "C:\\Users\\asus\\Downloads\\resized_train_data\\new_masks\\a\\images1\\image_546.png\n",
            "a\\images1\\image_9 hii\n",
            "C:\\Users\\asus\\Downloads\\resized_train_data\\images1\\image_9.jpg C:\\Users\\asus\\Downloads\\resized_train_data\\masks1\\mask_9.png\n"
          ]
        },
        {
          "name": "stderr",
          "output_type": "stream",
          "text": [
            " 68%|██████▊   | 311/459 [00:25<00:12, 12.24it/s]"
          ]
        },
        {
          "name": "stdout",
          "output_type": "stream",
          "text": [
            "C:\\Users\\asus\\Downloads\\resized_train_data\\new_masks\\a\\images1\\image_9.png\n",
            "a\\images1\\image_359 hii\n",
            "C:\\Users\\asus\\Downloads\\resized_train_data\\images1\\image_359.jpg C:\\Users\\asus\\Downloads\\resized_train_data\\masks1\\mask_359.png\n",
            "C:\\Users\\asus\\Downloads\\resized_train_data\\new_masks\\a\\images1\\image_359.png\n",
            "a\\images1\\image_500 hii\n",
            "C:\\Users\\asus\\Downloads\\resized_train_data\\images1\\image_500.jpg C:\\Users\\asus\\Downloads\\resized_train_data\\masks1\\mask_500.png\n",
            "C:\\Users\\asus\\Downloads\\resized_train_data\\new_masks\\a\\images1\\image_500.png\n",
            "a\\images1\\image_85 hii\n",
            "C:\\Users\\asus\\Downloads\\resized_train_data\\images1\\image_85.jpg C:\\Users\\asus\\Downloads\\resized_train_data\\masks1\\mask_85.png\n"
          ]
        },
        {
          "name": "stderr",
          "output_type": "stream",
          "text": [
            " 68%|██████▊   | 313/459 [00:26<00:11, 12.38it/s]"
          ]
        },
        {
          "name": "stdout",
          "output_type": "stream",
          "text": [
            "C:\\Users\\asus\\Downloads\\resized_train_data\\new_masks\\a\\images1\\image_85.png\n",
            "a\\images1\\image_138 hii\n",
            "C:\\Users\\asus\\Downloads\\resized_train_data\\images1\\image_138.jpg C:\\Users\\asus\\Downloads\\resized_train_data\\masks1\\mask_138.png\n",
            "C:\\Users\\asus\\Downloads\\resized_train_data\\new_masks\\a\\images1\\image_138.png\n",
            "a\\images1\\image_164 hii\n",
            "C:\\Users\\asus\\Downloads\\resized_train_data\\images1\\image_164.jpg C:\\Users\\asus\\Downloads\\resized_train_data\\masks1\\mask_164.png\n",
            "C:\\Users\\asus\\Downloads\\resized_train_data\\new_masks\\a\\images1\\image_164.png\n",
            "a\\images1\\image_440 hii\n",
            "C:\\Users\\asus\\Downloads\\resized_train_data\\images1\\image_440.jpg C:\\Users\\asus\\Downloads\\resized_train_data\\masks1\\mask_440.png\n"
          ]
        },
        {
          "name": "stderr",
          "output_type": "stream",
          "text": [
            " 69%|██████▉   | 317/459 [00:26<00:11, 11.97it/s]"
          ]
        },
        {
          "name": "stdout",
          "output_type": "stream",
          "text": [
            "C:\\Users\\asus\\Downloads\\resized_train_data\\new_masks\\a\\images1\\image_440.png\n",
            "a\\images1\\image_656 hii\n",
            "C:\\Users\\asus\\Downloads\\resized_train_data\\images1\\image_656.jpg C:\\Users\\asus\\Downloads\\resized_train_data\\masks1\\mask_656.png\n",
            "C:\\Users\\asus\\Downloads\\resized_train_data\\new_masks\\a\\images1\\image_656.png\n",
            "a\\images1\\image_111 hii\n",
            "C:\\Users\\asus\\Downloads\\resized_train_data\\images1\\image_111.jpg C:\\Users\\asus\\Downloads\\resized_train_data\\masks1\\mask_111.png\n",
            "C:\\Users\\asus\\Downloads\\resized_train_data\\new_masks\\a\\images1\\image_111.png\n",
            "a\\images1\\image_645 hii\n",
            "C:\\Users\\asus\\Downloads\\resized_train_data\\images1\\image_645.jpg C:\\Users\\asus\\Downloads\\resized_train_data\\masks1\\mask_645.png\n"
          ]
        },
        {
          "name": "stderr",
          "output_type": "stream",
          "text": [
            " 69%|██████▉   | 319/459 [00:26<00:11, 12.36it/s]"
          ]
        },
        {
          "name": "stdout",
          "output_type": "stream",
          "text": [
            "C:\\Users\\asus\\Downloads\\resized_train_data\\new_masks\\a\\images1\\image_645.png\n",
            "a\\images1\\image_184 hii\n",
            "C:\\Users\\asus\\Downloads\\resized_train_data\\images1\\image_184.jpg C:\\Users\\asus\\Downloads\\resized_train_data\\masks1\\mask_184.png\n",
            "C:\\Users\\asus\\Downloads\\resized_train_data\\new_masks\\a\\images1\\image_184.png\n",
            "a\\images1\\image_325 hii\n",
            "C:\\Users\\asus\\Downloads\\resized_train_data\\images1\\image_325.jpg C:\\Users\\asus\\Downloads\\resized_train_data\\masks1\\mask_325.png\n",
            "C:\\Users\\asus\\Downloads\\resized_train_data\\new_masks\\a\\images1\\image_325.png\n",
            "a\\images1\\image_151 hii\n",
            "C:\\Users\\asus\\Downloads\\resized_train_data\\images1\\image_151.jpg C:\\Users\\asus\\Downloads\\resized_train_data\\masks1\\mask_151.png\n"
          ]
        },
        {
          "name": "stderr",
          "output_type": "stream",
          "text": [
            " 70%|███████   | 323/459 [00:26<00:10, 12.72it/s]"
          ]
        },
        {
          "name": "stdout",
          "output_type": "stream",
          "text": [
            "C:\\Users\\asus\\Downloads\\resized_train_data\\new_masks\\a\\images1\\image_151.png\n",
            "a\\images1\\image_606 hii\n",
            "C:\\Users\\asus\\Downloads\\resized_train_data\\images1\\image_606.jpg C:\\Users\\asus\\Downloads\\resized_train_data\\masks1\\mask_606.png\n",
            "C:\\Users\\asus\\Downloads\\resized_train_data\\new_masks\\a\\images1\\image_606.png\n",
            "a\\images1\\image_549 hii\n",
            "C:\\Users\\asus\\Downloads\\resized_train_data\\images1\\image_549.jpg C:\\Users\\asus\\Downloads\\resized_train_data\\masks1\\mask_549.png\n",
            "C:\\Users\\asus\\Downloads\\resized_train_data\\new_masks\\a\\images1\\image_549.png\n",
            "a\\images1\\image_290 hii\n",
            "C:\\Users\\asus\\Downloads\\resized_train_data\\images1\\image_290.jpg C:\\Users\\asus\\Downloads\\resized_train_data\\masks1\\mask_290.png\n"
          ]
        },
        {
          "name": "stderr",
          "output_type": "stream",
          "text": [
            " 71%|███████   | 325/459 [00:27<00:10, 12.66it/s]"
          ]
        },
        {
          "name": "stdout",
          "output_type": "stream",
          "text": [
            "C:\\Users\\asus\\Downloads\\resized_train_data\\new_masks\\a\\images1\\image_290.png\n",
            "a\\images1\\image_69 hii\n",
            "C:\\Users\\asus\\Downloads\\resized_train_data\\images1\\image_69.jpg C:\\Users\\asus\\Downloads\\resized_train_data\\masks1\\mask_69.png\n",
            "C:\\Users\\asus\\Downloads\\resized_train_data\\new_masks\\a\\images1\\image_69.png\n",
            "a\\images1\\image_156 hii\n",
            "C:\\Users\\asus\\Downloads\\resized_train_data\\images1\\image_156.jpg C:\\Users\\asus\\Downloads\\resized_train_data\\masks1\\mask_156.png\n",
            "C:\\Users\\asus\\Downloads\\resized_train_data\\new_masks\\a\\images1\\image_156.png\n",
            "a\\images1\\image_212 hii\n",
            "C:\\Users\\asus\\Downloads\\resized_train_data\\images1\\image_212.jpg C:\\Users\\asus\\Downloads\\resized_train_data\\masks1\\mask_212.png\n"
          ]
        },
        {
          "name": "stderr",
          "output_type": "stream",
          "text": [
            " 72%|███████▏  | 329/459 [00:27<00:10, 12.46it/s]"
          ]
        },
        {
          "name": "stdout",
          "output_type": "stream",
          "text": [
            "C:\\Users\\asus\\Downloads\\resized_train_data\\new_masks\\a\\images1\\image_212.png\n",
            "a\\images1\\image_145 hii\n",
            "C:\\Users\\asus\\Downloads\\resized_train_data\\images1\\image_145.jpg C:\\Users\\asus\\Downloads\\resized_train_data\\masks1\\mask_145.png\n",
            "C:\\Users\\asus\\Downloads\\resized_train_data\\new_masks\\a\\images1\\image_145.png\n",
            "a\\images1\\image_268 hii\n",
            "C:\\Users\\asus\\Downloads\\resized_train_data\\images1\\image_268.jpg C:\\Users\\asus\\Downloads\\resized_train_data\\masks1\\mask_268.png\n",
            "C:\\Users\\asus\\Downloads\\resized_train_data\\new_masks\\a\\images1\\image_268.png\n",
            "a\\images1\\image_89 hii\n",
            "C:\\Users\\asus\\Downloads\\resized_train_data\\images1\\image_89.jpg C:\\Users\\asus\\Downloads\\resized_train_data\\masks1\\mask_89.png\n"
          ]
        },
        {
          "name": "stderr",
          "output_type": "stream",
          "text": [
            " 72%|███████▏  | 331/459 [00:27<00:10, 12.08it/s]"
          ]
        },
        {
          "name": "stdout",
          "output_type": "stream",
          "text": [
            "C:\\Users\\asus\\Downloads\\resized_train_data\\new_masks\\a\\images1\\image_89.png\n",
            "a\\images1\\image_599 hii\n",
            "C:\\Users\\asus\\Downloads\\resized_train_data\\images1\\image_599.jpg C:\\Users\\asus\\Downloads\\resized_train_data\\masks1\\mask_599.png\n",
            "C:\\Users\\asus\\Downloads\\resized_train_data\\new_masks\\a\\images1\\image_599.png\n",
            "a\\images1\\image_217 hii\n",
            "C:\\Users\\asus\\Downloads\\resized_train_data\\images1\\image_217.jpg C:\\Users\\asus\\Downloads\\resized_train_data\\masks1\\mask_217.png\n",
            "C:\\Users\\asus\\Downloads\\resized_train_data\\new_masks\\a\\images1\\image_217.png\n",
            "a\\images1\\image_680 hii\n",
            "C:\\Users\\asus\\Downloads\\resized_train_data\\images1\\image_680.jpg C:\\Users\\asus\\Downloads\\resized_train_data\\masks1\\mask_680.png\n"
          ]
        },
        {
          "name": "stderr",
          "output_type": "stream",
          "text": [
            " 73%|███████▎  | 335/459 [00:27<00:09, 12.42it/s]"
          ]
        },
        {
          "name": "stdout",
          "output_type": "stream",
          "text": [
            "C:\\Users\\asus\\Downloads\\resized_train_data\\new_masks\\a\\images1\\image_680.png\n",
            "a\\images1\\image_97 hii\n",
            "C:\\Users\\asus\\Downloads\\resized_train_data\\images1\\image_97.jpg C:\\Users\\asus\\Downloads\\resized_train_data\\masks1\\mask_97.png\n",
            "C:\\Users\\asus\\Downloads\\resized_train_data\\new_masks\\a\\images1\\image_97.png\n",
            "a\\images1\\image_720 hii\n",
            "C:\\Users\\asus\\Downloads\\resized_train_data\\images1\\image_720.jpg C:\\Users\\asus\\Downloads\\resized_train_data\\masks1\\mask_720.png\n",
            "C:\\Users\\asus\\Downloads\\resized_train_data\\new_masks\\a\\images1\\image_720.png\n",
            "a\\images1\\image_334 hii\n",
            "C:\\Users\\asus\\Downloads\\resized_train_data\\images1\\image_334.jpg C:\\Users\\asus\\Downloads\\resized_train_data\\masks1\\mask_334.png\n"
          ]
        }
      ],
      "source": [
        "import os\n",
        "os.environ[\"TF_CPP_MIN_LOG_LEVEL\"] = \"2\"\n",
        "\n",
        "import numpy as np\n",
        "import cv2\n",
        "import pandas as pd\n",
        "from glob import glob\n",
        "from tqdm import tqdm\n",
        "import tensorflow as tf\n",
        "from sklearn.metrics import accuracy_score, f1_score, jaccard_score, precision_score, recall_score\n",
        "\n",
        "\n",
        "\n",
        "def grayscale_to_rgb(mask, classes, colormap):\n",
        "    h, w, _ = mask.shape\n",
        "    mask = mask.astype(np.int32)\n",
        "    output = []\n",
        "\n",
        "    for i, pixel in enumerate(mask.flatten()):\n",
        "        output.append(colormap[pixel])\n",
        "\n",
        "    output = np.reshape(output, (h, w, 3))\n",
        "    return output\n",
        "\n",
        "def save_results(image, mask, pred, save_image_path):\n",
        "    h, w, _ = image.shape\n",
        "    line = np.ones((h, 10, 3)) * 255\n",
        "\n",
        "    pred = np.expand_dims(pred, axis=-1)\n",
        "    pred = grayscale_to_rgb(pred, CLASSES, COLORMAP)\n",
        "\n",
        "    cat_images = np.concatenate([image, line, mask, line, pred], axis=1)\n",
        "    cv2.imwrite(save_image_path, cat_images)\n",
        "\n",
        "if __name__ == \"__main__\":\n",
        "    \"\"\" Seeding \"\"\"\n",
        "    np.random.seed(42)\n",
        "    tf.random.set_seed(42)\n",
        "\n",
        "\n",
        "\n",
        "    \"\"\" Load the dataset \"\"\"\n",
        "    (train_x, train_y), (valid_x, valid_y), (test_x, test_y) = load_dataset(dataset_path)\n",
        "    print(f\"Train: {len(train_x)}/{len(train_y)} - Valid: {len(valid_x)}/{len(valid_y)} - Test: {len(test_x)}/{len(test_y)}\")\n",
        "    print(\"\")\n",
        "\n",
        "    \"\"\" Evaluation and Prediction \"\"\"\n",
        "    i=0\n",
        "    SCORE = []\n",
        "    for x, y in tqdm(zip(valid_x, valid_y), total=len(valid_x)):\n",
        "        \"\"\" Extract the name \"\"\"\n",
        "        name = x.split(\"/\")[-1].split(\".\")[0]\n",
        "        name = name[41:]\n",
        "        print(name,\"hii\")\n",
        "\n",
        "        \"\"\" Reading the image \"\"\"\n",
        "        image = cv2.imread(x, cv2.IMREAD_COLOR)\n",
        "        image = cv2.resize(image, (IMG_W, IMG_H))\n",
        "        image_x = image\n",
        "        image = image/255.0\n",
        "        image = np.expand_dims(image, axis=0)\n",
        "\n",
        "        \"\"\" Reading the mask \"\"\"\n",
        "        print(x,y)\n",
        "        mask = cv2.imread(y, cv2.IMREAD_COLOR)\n",
        "        mask = cv2.resize(mask, (IMG_W, IMG_H))\n",
        "        mask_x = mask\n",
        "        onehot_mask = []\n",
        "        for color in COLORMAP:\n",
        "            # new_color = [color[2],color[1],color[0]]\n",
        "            cmap = np.all(np.equal(mask, color), axis=-1)\n",
        "            onehot_mask.append(cmap)\n",
        "        onehot_mask = np.stack(onehot_mask, axis=-1)\n",
        "        onehot_mask = np.argmax(onehot_mask, axis=-1)\n",
        "        onehot_mask = onehot_mask.astype(np.int32)\n",
        "        save_image = f\"{save_image_path}\\{name}.png\"\n",
        "        print(save_image)\n",
        "        # print(onehot_mask.shape,\"hii\")\n",
        "        # plt.figure(figsize=(10, 5))\n",
        "        # plt.subplot(1,3,1)\n",
        "        # plt.imshow(onehot_mask)\n",
        "        # plt.subplot(1,3,2)\n",
        "        # plt.imshow(image[0])\n",
        "        # plt.subplot(1,3,3)\n",
        "        # plt.imshow(mask)\n",
        "        # plt.axis('off')\n",
        "        cv2.imwrite(save_image,onehot_mask)\n",
        "\n",
        "        # \"\"\" Prediction \"\"\"\n",
        "        # pred = model.predict(image, verbose=0)[0]\n",
        "        # pred = np.argmax(pred, axis=-1)\n",
        "        # pred = pred.astype(np.float32)\n",
        "\n",
        "        # \"\"\" Saving the prediction \"\"\"\n",
        "\n",
        "        # save_results(image_x, mask_x, pred, save_image_path)\n",
        "\n",
        "    #     \"\"\" Flatten the array \"\"\"\n",
        "    #     onehot_mask = onehot_mask.flatten()\n",
        "    #     pred = pred.flatten()\n",
        "\n",
        "    #     labels = [i for i in range(NUM_CLASSES)]\n",
        "\n",
        "    #     \"\"\" Calculating the metrics values \"\"\"\n",
        "    #     f1_value = f1_score(onehot_mask, pred, labels=labels, average=None, zero_division=0)\n",
        "    #     jac_value = jaccard_score(onehot_mask, pred, labels=labels, average=None, zero_division=0)\n",
        "\n",
        "    #     SCORE.append([f1_value, jac_value])\n",
        "\n",
        "    # \"\"\" Metrics values \"\"\"\n",
        "    # score = np.array(SCORE)\n",
        "    # score = np.mean(score, axis=0)\n",
        "\n",
        "    # f = open(\"/content/drive/MyDrive/files/data.csv\", \"w\")\n",
        "    # f.write(\"Class,F1,Jaccard\\n\")\n",
        "\n",
        "    # l = [\"Class\", \"F1\", \"Jaccard\"]\n",
        "    # print(f\"{l[0]:15s} {l[1]:10s} {l[2]:10s}\")\n",
        "    # print(\"-\"*35)\n",
        "\n",
        "    # for i in range(score.shape[1]):\n",
        "    #     class_name = CLASSES[i]\n",
        "    #     f1 = score[0, i]\n",
        "    #     jac = score[1, i]\n",
        "    #     dstr = f\"{class_name:15s}: {f1:1.5f} - {jac:1.5f}\"\n",
        "    #     print(dstr)\n",
        "    #     f.write(f\"{class_name:15s},{f1:1.5f},{jac:1.5f}\\n\")\n",
        "\n",
        "    # print(\"-\"*35)\n",
        "    # class_mean = np.mean(score, axis=-1)\n",
        "    # class_name = \"Mean\"\n",
        "    # f1 = class_mean[0]\n",
        "    # jac = class_mean[1]\n",
        "    # dstr = f\"{class_name:15s}: {f1:1.5f} - {jac:1.5f}\"\n",
        "    # print(dstr)\n",
        "    # f.write(f\"{class_name:15s},{f1:1.5f},{jac:1.5f}\\n\")\n",
        "\n",
        "    # f.close()"
      ]
    },
    {
      "cell_type": "code",
      "execution_count": null,
      "metadata": {},
      "outputs": [],
      "source": []
    }
  ],
  "metadata": {
    "accelerator": "GPU",
    "colab": {
      "gpuType": "T4",
      "provenance": []
    },
    "kernelspec": {
      "display_name": "Python 3",
      "name": "python3"
    },
    "language_info": {
      "codemirror_mode": {
        "name": "ipython",
        "version": 3
      },
      "file_extension": ".py",
      "mimetype": "text/x-python",
      "name": "python",
      "nbconvert_exporter": "python",
      "pygments_lexer": "ipython3",
      "version": "3.11.1"
    }
  },
  "nbformat": 4,
  "nbformat_minor": 0
}
